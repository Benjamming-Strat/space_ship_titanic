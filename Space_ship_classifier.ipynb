{
 "cells": [
  {
   "cell_type": "code",
   "execution_count": 664,
   "id": "4886b0a3",
   "metadata": {},
   "outputs": [],
   "source": [
    "import pandas as pd\n",
    "import numpy as np\n",
    "import matplotlib.pyplot as plt\n",
    "import seaborn as sns"
   ]
  },
  {
   "cell_type": "code",
   "execution_count": 665,
   "id": "8f4582e8",
   "metadata": {},
   "outputs": [],
   "source": [
    "train = pd.read_csv('train.csv')\n",
    "test = pd.read_csv('test.csv')"
   ]
  },
  {
   "cell_type": "markdown",
   "id": "40d8f967",
   "metadata": {},
   "source": [
    "* train.csv - Personal records for about two-thirds (ca. 8700) of the passengers, to be used as training data.\n",
    "* PassengerId - A unique Id for each passenger. Each Id takes the form gggg_pp where gggg indicates a group the passenger is travelling with and pp is their number within the group. People in a group are often family members, but not always.\n",
    "\n",
    "* HomePlanet - The planet the passenger departed from, typically their planet of permanent residence.\n",
    "* CryoSleep - Indicates whether the passenger elected to be put into suspended animation for the duration of the voyage. Passengers in cryosleep are confined to their cabins.\n",
    "* Cabin - The cabin number where the passenger is staying. Takes the form deck/num/side, where side can be either P for Port or S for Starboard.\n",
    "* Destination - The planet the passenger will be debarking to.\n",
    "* Age - The age of the passenger.\n",
    "* VIP - Whether the passenger has paid for special VIP service during the voyage.\n",
    "* RoomService, FoodCourt, ShoppingMall, Spa, VRDeck - Amount the passenger has billed at each of the Spaceship Titanic's many luxury amenities.\n",
    "* Name - The first and last names of the passenger.\n",
    "* Transported - Whether the passenger was transported to another dimension. This is the target, the column you are trying to predict.\n",
    "* test.csv - Personal records for the remaining one-third (ca. 4300) of the passengers, to be used as test data. Your task is to predict the value of Transported for the passengers in this set.\n",
    "* sample_submission.csv - A submission file in the correct format.\n",
    "* PassengerId - Id for each passenger in the test set.\n",
    "* Transported - The target. For each passenger, predict either True or False.\n",
    "\n",
    "\n",
    "# Over all EDA\n",
    "* ### Missing Values\n",
    "* ### Description\n",
    "* ### Datetypes\n",
    "* ### Distribution"
   ]
  },
  {
   "cell_type": "code",
   "execution_count": 666,
   "id": "3e77725e",
   "metadata": {},
   "outputs": [
    {
     "data": {
      "text/html": [
       "<div>\n",
       "<style scoped>\n",
       "    .dataframe tbody tr th:only-of-type {\n",
       "        vertical-align: middle;\n",
       "    }\n",
       "\n",
       "    .dataframe tbody tr th {\n",
       "        vertical-align: top;\n",
       "    }\n",
       "\n",
       "    .dataframe thead th {\n",
       "        text-align: right;\n",
       "    }\n",
       "</style>\n",
       "<table border=\"1\" class=\"dataframe\">\n",
       "  <thead>\n",
       "    <tr style=\"text-align: right;\">\n",
       "      <th></th>\n",
       "      <th>PassengerId</th>\n",
       "      <th>HomePlanet</th>\n",
       "      <th>CryoSleep</th>\n",
       "      <th>Cabin</th>\n",
       "      <th>Destination</th>\n",
       "      <th>Age</th>\n",
       "      <th>VIP</th>\n",
       "      <th>RoomService</th>\n",
       "      <th>FoodCourt</th>\n",
       "      <th>ShoppingMall</th>\n",
       "      <th>Spa</th>\n",
       "      <th>VRDeck</th>\n",
       "      <th>Name</th>\n",
       "      <th>Transported</th>\n",
       "    </tr>\n",
       "  </thead>\n",
       "  <tbody>\n",
       "    <tr>\n",
       "      <th>0</th>\n",
       "      <td>0001_01</td>\n",
       "      <td>Europa</td>\n",
       "      <td>False</td>\n",
       "      <td>B/0/P</td>\n",
       "      <td>TRAPPIST-1e</td>\n",
       "      <td>39.0</td>\n",
       "      <td>False</td>\n",
       "      <td>0.0</td>\n",
       "      <td>0.0</td>\n",
       "      <td>0.0</td>\n",
       "      <td>0.0</td>\n",
       "      <td>0.0</td>\n",
       "      <td>Maham Ofracculy</td>\n",
       "      <td>False</td>\n",
       "    </tr>\n",
       "    <tr>\n",
       "      <th>1</th>\n",
       "      <td>0002_01</td>\n",
       "      <td>Earth</td>\n",
       "      <td>False</td>\n",
       "      <td>F/0/S</td>\n",
       "      <td>TRAPPIST-1e</td>\n",
       "      <td>24.0</td>\n",
       "      <td>False</td>\n",
       "      <td>109.0</td>\n",
       "      <td>9.0</td>\n",
       "      <td>25.0</td>\n",
       "      <td>549.0</td>\n",
       "      <td>44.0</td>\n",
       "      <td>Juanna Vines</td>\n",
       "      <td>True</td>\n",
       "    </tr>\n",
       "    <tr>\n",
       "      <th>2</th>\n",
       "      <td>0003_01</td>\n",
       "      <td>Europa</td>\n",
       "      <td>False</td>\n",
       "      <td>A/0/S</td>\n",
       "      <td>TRAPPIST-1e</td>\n",
       "      <td>58.0</td>\n",
       "      <td>True</td>\n",
       "      <td>43.0</td>\n",
       "      <td>3576.0</td>\n",
       "      <td>0.0</td>\n",
       "      <td>6715.0</td>\n",
       "      <td>49.0</td>\n",
       "      <td>Altark Susent</td>\n",
       "      <td>False</td>\n",
       "    </tr>\n",
       "    <tr>\n",
       "      <th>3</th>\n",
       "      <td>0003_02</td>\n",
       "      <td>Europa</td>\n",
       "      <td>False</td>\n",
       "      <td>A/0/S</td>\n",
       "      <td>TRAPPIST-1e</td>\n",
       "      <td>33.0</td>\n",
       "      <td>False</td>\n",
       "      <td>0.0</td>\n",
       "      <td>1283.0</td>\n",
       "      <td>371.0</td>\n",
       "      <td>3329.0</td>\n",
       "      <td>193.0</td>\n",
       "      <td>Solam Susent</td>\n",
       "      <td>False</td>\n",
       "    </tr>\n",
       "    <tr>\n",
       "      <th>4</th>\n",
       "      <td>0004_01</td>\n",
       "      <td>Earth</td>\n",
       "      <td>False</td>\n",
       "      <td>F/1/S</td>\n",
       "      <td>TRAPPIST-1e</td>\n",
       "      <td>16.0</td>\n",
       "      <td>False</td>\n",
       "      <td>303.0</td>\n",
       "      <td>70.0</td>\n",
       "      <td>151.0</td>\n",
       "      <td>565.0</td>\n",
       "      <td>2.0</td>\n",
       "      <td>Willy Santantines</td>\n",
       "      <td>True</td>\n",
       "    </tr>\n",
       "  </tbody>\n",
       "</table>\n",
       "</div>"
      ],
      "text/plain": [
       "  PassengerId HomePlanet CryoSleep  Cabin  Destination   Age    VIP  \\\n",
       "0     0001_01     Europa     False  B/0/P  TRAPPIST-1e  39.0  False   \n",
       "1     0002_01      Earth     False  F/0/S  TRAPPIST-1e  24.0  False   \n",
       "2     0003_01     Europa     False  A/0/S  TRAPPIST-1e  58.0   True   \n",
       "3     0003_02     Europa     False  A/0/S  TRAPPIST-1e  33.0  False   \n",
       "4     0004_01      Earth     False  F/1/S  TRAPPIST-1e  16.0  False   \n",
       "\n",
       "   RoomService  FoodCourt  ShoppingMall     Spa  VRDeck               Name  \\\n",
       "0          0.0        0.0           0.0     0.0     0.0    Maham Ofracculy   \n",
       "1        109.0        9.0          25.0   549.0    44.0       Juanna Vines   \n",
       "2         43.0     3576.0           0.0  6715.0    49.0      Altark Susent   \n",
       "3          0.0     1283.0         371.0  3329.0   193.0       Solam Susent   \n",
       "4        303.0       70.0         151.0   565.0     2.0  Willy Santantines   \n",
       "\n",
       "   Transported  \n",
       "0        False  \n",
       "1         True  \n",
       "2        False  \n",
       "3        False  \n",
       "4         True  "
      ]
     },
     "execution_count": 666,
     "metadata": {},
     "output_type": "execute_result"
    }
   ],
   "source": [
    "train.head()"
   ]
  },
  {
   "cell_type": "code",
   "execution_count": 667,
   "id": "05b8dc5a",
   "metadata": {},
   "outputs": [
    {
     "data": {
      "text/html": [
       "<div>\n",
       "<style scoped>\n",
       "    .dataframe tbody tr th:only-of-type {\n",
       "        vertical-align: middle;\n",
       "    }\n",
       "\n",
       "    .dataframe tbody tr th {\n",
       "        vertical-align: top;\n",
       "    }\n",
       "\n",
       "    .dataframe thead th {\n",
       "        text-align: right;\n",
       "    }\n",
       "</style>\n",
       "<table border=\"1\" class=\"dataframe\">\n",
       "  <thead>\n",
       "    <tr style=\"text-align: right;\">\n",
       "      <th></th>\n",
       "      <th>Age</th>\n",
       "      <th>RoomService</th>\n",
       "      <th>FoodCourt</th>\n",
       "      <th>ShoppingMall</th>\n",
       "      <th>Spa</th>\n",
       "      <th>VRDeck</th>\n",
       "    </tr>\n",
       "  </thead>\n",
       "  <tbody>\n",
       "    <tr>\n",
       "      <th>count</th>\n",
       "      <td>8514.000000</td>\n",
       "      <td>8512.000000</td>\n",
       "      <td>8510.000000</td>\n",
       "      <td>8485.000000</td>\n",
       "      <td>8510.000000</td>\n",
       "      <td>8505.000000</td>\n",
       "    </tr>\n",
       "    <tr>\n",
       "      <th>mean</th>\n",
       "      <td>28.827930</td>\n",
       "      <td>224.687617</td>\n",
       "      <td>458.077203</td>\n",
       "      <td>173.729169</td>\n",
       "      <td>311.138778</td>\n",
       "      <td>304.854791</td>\n",
       "    </tr>\n",
       "    <tr>\n",
       "      <th>std</th>\n",
       "      <td>14.489021</td>\n",
       "      <td>666.717663</td>\n",
       "      <td>1611.489240</td>\n",
       "      <td>604.696458</td>\n",
       "      <td>1136.705535</td>\n",
       "      <td>1145.717189</td>\n",
       "    </tr>\n",
       "    <tr>\n",
       "      <th>min</th>\n",
       "      <td>0.000000</td>\n",
       "      <td>0.000000</td>\n",
       "      <td>0.000000</td>\n",
       "      <td>0.000000</td>\n",
       "      <td>0.000000</td>\n",
       "      <td>0.000000</td>\n",
       "    </tr>\n",
       "    <tr>\n",
       "      <th>25%</th>\n",
       "      <td>19.000000</td>\n",
       "      <td>0.000000</td>\n",
       "      <td>0.000000</td>\n",
       "      <td>0.000000</td>\n",
       "      <td>0.000000</td>\n",
       "      <td>0.000000</td>\n",
       "    </tr>\n",
       "    <tr>\n",
       "      <th>50%</th>\n",
       "      <td>27.000000</td>\n",
       "      <td>0.000000</td>\n",
       "      <td>0.000000</td>\n",
       "      <td>0.000000</td>\n",
       "      <td>0.000000</td>\n",
       "      <td>0.000000</td>\n",
       "    </tr>\n",
       "    <tr>\n",
       "      <th>75%</th>\n",
       "      <td>38.000000</td>\n",
       "      <td>47.000000</td>\n",
       "      <td>76.000000</td>\n",
       "      <td>27.000000</td>\n",
       "      <td>59.000000</td>\n",
       "      <td>46.000000</td>\n",
       "    </tr>\n",
       "    <tr>\n",
       "      <th>max</th>\n",
       "      <td>79.000000</td>\n",
       "      <td>14327.000000</td>\n",
       "      <td>29813.000000</td>\n",
       "      <td>23492.000000</td>\n",
       "      <td>22408.000000</td>\n",
       "      <td>24133.000000</td>\n",
       "    </tr>\n",
       "  </tbody>\n",
       "</table>\n",
       "</div>"
      ],
      "text/plain": [
       "               Age   RoomService     FoodCourt  ShoppingMall           Spa  \\\n",
       "count  8514.000000   8512.000000   8510.000000   8485.000000   8510.000000   \n",
       "mean     28.827930    224.687617    458.077203    173.729169    311.138778   \n",
       "std      14.489021    666.717663   1611.489240    604.696458   1136.705535   \n",
       "min       0.000000      0.000000      0.000000      0.000000      0.000000   \n",
       "25%      19.000000      0.000000      0.000000      0.000000      0.000000   \n",
       "50%      27.000000      0.000000      0.000000      0.000000      0.000000   \n",
       "75%      38.000000     47.000000     76.000000     27.000000     59.000000   \n",
       "max      79.000000  14327.000000  29813.000000  23492.000000  22408.000000   \n",
       "\n",
       "             VRDeck  \n",
       "count   8505.000000  \n",
       "mean     304.854791  \n",
       "std     1145.717189  \n",
       "min        0.000000  \n",
       "25%        0.000000  \n",
       "50%        0.000000  \n",
       "75%       46.000000  \n",
       "max    24133.000000  "
      ]
     },
     "execution_count": 667,
     "metadata": {},
     "output_type": "execute_result"
    }
   ],
   "source": [
    "train.describe()"
   ]
  },
  {
   "cell_type": "code",
   "execution_count": 668,
   "id": "e06e3bac",
   "metadata": {},
   "outputs": [
    {
     "name": "stdout",
     "output_type": "stream",
     "text": [
      "PassengerId     0.000000\n",
      "Transported     0.000000\n",
      "Age             0.020591\n",
      "RoomService     0.020821\n",
      "Destination     0.020936\n",
      "FoodCourt       0.021051\n",
      "Spa             0.021051\n",
      "VRDeck          0.021627\n",
      "Cabin           0.022892\n",
      "Name            0.023007\n",
      "HomePlanet      0.023122\n",
      "VIP             0.023352\n",
      "ShoppingMall    0.023927\n",
      "CryoSleep       0.024963\n",
      "Name: Missing_total, dtype: float64\n",
      "(8693, 14)\n"
     ]
    }
   ],
   "source": [
    "missing_train = pd.DataFrame(train.isna().sum())\n",
    "missing_train[\"Missing_total\"] = missing_train[0]/train.shape[0]\n",
    "\n",
    "print(missing_train[\"Missing_total\"].sort_values(ascending=True))\n",
    "print(train.shape)"
   ]
  },
  {
   "cell_type": "code",
   "execution_count": 669,
   "id": "dbd4c591",
   "metadata": {},
   "outputs": [
    {
     "name": "stdout",
     "output_type": "stream",
     "text": [
      "PassengerId     0.000000\n",
      "VRDeck          0.018705\n",
      "RoomService     0.019172\n",
      "HomePlanet      0.020341\n",
      "Age             0.021277\n",
      "Destination     0.021510\n",
      "CryoSleep       0.021744\n",
      "VIP             0.021744\n",
      "Name            0.021978\n",
      "ShoppingMall    0.022913\n",
      "Cabin           0.023381\n",
      "Spa             0.023615\n",
      "FoodCourt       0.024784\n",
      "Name: Missing_total, dtype: float64\n",
      "(4277, 13)\n"
     ]
    }
   ],
   "source": [
    "missing_test = pd.DataFrame(test.isna().sum())\n",
    "missing_test[\"Missing_total\"] = missing_test[0]/test.shape[0]\n",
    "print(missing_test[\"Missing_total\"].sort_values(ascending=True))\n",
    "print(test.shape)"
   ]
  },
  {
   "cell_type": "markdown",
   "id": "d75136f1",
   "metadata": {},
   "source": [
    "# EDA"
   ]
  },
  {
   "cell_type": "code",
   "execution_count": 670,
   "id": "0dab0044",
   "metadata": {},
   "outputs": [
    {
     "name": "stdout",
     "output_type": "stream",
     "text": [
      "Out of all VIPs, only 38.19 % survived.\n"
     ]
    }
   ],
   "source": [
    "vip_mask = (train['VIP'] == True) & (train['Transported'] == True)\n",
    "vip_survivors = round((len(train[vip_mask]) / len(train[train['VIP'] == True]) * 100), 2)\n",
    "print(f'Out of all VIPs, only {vip_survivors} % survived.')"
   ]
  },
  {
   "cell_type": "code",
   "execution_count": 671,
   "id": "95371a3f",
   "metadata": {},
   "outputs": [
    {
     "data": {
      "text/plain": [
       "<AxesSubplot:ylabel='Frequency'>"
      ]
     },
     "execution_count": 671,
     "metadata": {},
     "output_type": "execute_result"
    },
    {
     "data": {
      "image/png": "[encoded data removed]",
      "text/plain": [
       "<Figure size 432x288 with 1 Axes>"
      ]
     },
     "metadata": {
      "needs_background": "light"
     },
     "output_type": "display_data"
    }
   ],
   "source": [
    "# Majority of the passangers are in their 20s and 30s\n",
    "train.Age.plot(kind='hist', edgecolor='white', linewidth=3)"
   ]
  },
  {
   "cell_type": "code",
   "execution_count": 672,
   "id": "edffd6f4",
   "metadata": {},
   "outputs": [
    {
     "data": {
      "text/plain": [
       "<AxesSubplot:ylabel='CryoSleep'>"
      ]
     },
     "execution_count": 672,
     "metadata": {},
     "output_type": "execute_result"
    },
    {
     "data": {
      "image/png": "[encoded data removed]",
      "text/plain": [
       "<Figure size 432x288 with 1 Axes>"
      ]
     },
     "metadata": {},
     "output_type": "display_data"
    }
   ],
   "source": [
    "train.CryoSleep.value_counts().plot(kind='pie')"
   ]
  },
  {
   "cell_type": "code",
   "execution_count": 673,
   "id": "187ae0d3",
   "metadata": {},
   "outputs": [],
   "source": [
    "train_num = [f for f in train.columns if train[f].dtype == \"float64\"]\n",
    "train_cat = [f for f in train.columns if train[f].dtype == \"object\"]\n"
   ]
  },
  {
   "cell_type": "markdown",
   "id": "c2279d59",
   "metadata": {},
   "source": [
    "# Distribution of numeric columns"
   ]
  },
  {
   "cell_type": "code",
   "execution_count": 674,
   "id": "804baf1e",
   "metadata": {},
   "outputs": [
    {
     "data": {
      "image/png": "[encoded data removed]",
      "text/plain": [
       "<Figure size 432x288 with 1 Axes>"
      ]
     },
     "metadata": {
      "needs_background": "light"
     },
     "output_type": "display_data"
    },
    {
     "data": {
      "image/png": "[encoded data removed]",
      "text/plain": [
       "<Figure size 432x288 with 1 Axes>"
      ]
     },
     "metadata": {
      "needs_background": "light"
     },
     "output_type": "display_data"
    },
    {
     "data": {
      "image/png": "[encoded data removed]",
      "text/plain": [
       "<Figure size 432x288 with 1 Axes>"
      ]
     },
     "metadata": {
      "needs_background": "light"
     },
     "output_type": "display_data"
    },
    {
     "data": {
      "image/png": "[encoded data removed]",
      "text/plain": [
       "<Figure size 432x288 with 1 Axes>"
      ]
     },
     "metadata": {
      "needs_background": "light"
     },
     "output_type": "display_data"
    },
    {
     "data": {
      "image/png": "[encoded data removed]",
      "text/plain": [
       "<Figure size 432x288 with 1 Axes>"
      ]
     },
     "metadata": {
      "needs_background": "light"
     },
     "output_type": "display_data"
    },
    {
     "data": {
      "image/png": "[encoded data removed]",
      "text/plain": [
       "<Figure size 432x288 with 1 Axes>"
      ]
     },
     "metadata": {
      "needs_background": "light"
     },
     "output_type": "display_data"
    }
   ],
   "source": [
    "for i in train_num:\n",
    "  plt.hist(train[i], bins=30)\n",
    "  plt.title(i)\n",
    "  plt.show()"
   ]
  },
  {
   "cell_type": "code",
   "execution_count": 675,
   "id": "7403250f",
   "metadata": {},
   "outputs": [],
   "source": [
    "# distribution among Age among categorical features\n",
    "for z in [\"PassengerId\", \"Name\", \"Cabin\"]:\n",
    "   train_cat.remove(z)\n",
    "\n"
   ]
  },
  {
   "cell_type": "code",
   "execution_count": 676,
   "id": "718bd6fd",
   "metadata": {},
   "outputs": [
    {
     "data": {
      "image/png": "[encoded data removed]",
      "text/plain": [
       "<Figure size 432x288 with 1 Axes>"
      ]
     },
     "metadata": {
      "needs_background": "light"
     },
     "output_type": "display_data"
    },
    {
     "data": {
      "image/png": "[encoded data removed]",
      "text/plain": [
       "<Figure size 432x288 with 1 Axes>"
      ]
     },
     "metadata": {
      "needs_background": "light"
     },
     "output_type": "display_data"
    },
    {
     "data": {
      "image/png": "[encoded data removed]",
      "text/plain": [
       "<Figure size 432x288 with 1 Axes>"
      ]
     },
     "metadata": {
      "needs_background": "light"
     },
     "output_type": "display_data"
    },
    {
     "data": {
      "image/png": "[encoded data removed]",
      "text/plain": [
       "<Figure size 432x288 with 1 Axes>"
      ]
     },
     "metadata": {
      "needs_background": "light"
     },
     "output_type": "display_data"
    },
    {
     "data": {
      "image/png": "[encoded data removed]",
      "text/plain": [
       "<Figure size 432x288 with 1 Axes>"
      ]
     },
     "metadata": {
      "needs_background": "light"
     },
     "output_type": "display_data"
    },
    {
     "data": {
      "image/png": "[encoded data removed]",
      "text/plain": [
       "<Figure size 432x288 with 1 Axes>"
      ]
     },
     "metadata": {
      "needs_background": "light"
     },
     "output_type": "display_data"
    },
    {
     "data": {
      "image/png": "[encoded data removed]",
      "text/plain": [
       "<Figure size 432x288 with 1 Axes>"
      ]
     },
     "metadata": {
      "needs_background": "light"
     },
     "output_type": "display_data"
    },
    {
     "data": {
      "image/png": "[encoded data removed]",
      "text/plain": [
       "<Figure size 432x288 with 1 Axes>"
      ]
     },
     "metadata": {
      "needs_background": "light"
     },
     "output_type": "display_data"
    },
    {
     "data": {
      "image/png": "[encoded data removed]",
      "text/plain": [
       "<Figure size 432x288 with 1 Axes>"
      ]
     },
     "metadata": {
      "needs_background": "light"
     },
     "output_type": "display_data"
    },
    {
     "data": {
      "image/png": "[encoded data removed]",
      "text/plain": [
       "<Figure size 432x288 with 1 Axes>"
      ]
     },
     "metadata": {
      "needs_background": "light"
     },
     "output_type": "display_data"
    },
    {
     "data": {
      "image/png": "[encoded data removed]",
      "text/plain": [
       "<Figure size 432x288 with 1 Axes>"
      ]
     },
     "metadata": {
      "needs_background": "light"
     },
     "output_type": "display_data"
    },
    {
     "data": {
      "image/png": "[encoded data removed]",
      "text/plain": [
       "<Figure size 432x288 with 1 Axes>"
      ]
     },
     "metadata": {
      "needs_background": "light"
     },
     "output_type": "display_data"
    },
    {
     "data": {
      "image/png": "[encoded data removed]",
      "text/plain": [
       "<Figure size 432x288 with 1 Axes>"
      ]
     },
     "metadata": {
      "needs_background": "light"
     },
     "output_type": "display_data"
    },
    {
     "data": {
      "image/png": "[encoded data removed]",
      "text/plain": [
       "<Figure size 432x288 with 1 Axes>"
      ]
     },
     "metadata": {
      "needs_background": "light"
     },
     "output_type": "display_data"
    },
    {
     "data": {
      "image/png": "[encoded data removed]",
      "text/plain": [
       "<Figure size 432x288 with 1 Axes>"
      ]
     },
     "metadata": {
      "needs_background": "light"
     },
     "output_type": "display_data"
    },
    {
     "data": {
      "image/png": "[encoded data removed]",
      "text/plain": [
       "<Figure size 432x288 with 1 Axes>"
      ]
     },
     "metadata": {
      "needs_background": "light"
     },
     "output_type": "display_data"
    },
    {
     "data": {
      "image/png": "[encoded data removed]",
      "text/plain": [
       "<Figure size 432x288 with 1 Axes>"
      ]
     },
     "metadata": {
      "needs_background": "light"
     },
     "output_type": "display_data"
    },
    {
     "data": {
      "image/png": "[encoded data removed]",
      "text/plain": [
       "<Figure size 432x288 with 1 Axes>"
      ]
     },
     "metadata": {
      "needs_background": "light"
     },
     "output_type": "display_data"
    },
    {
     "data": {
      "image/png": "[encoded data removed]",
      "text/plain": [
       "<Figure size 432x288 with 1 Axes>"
      ]
     },
     "metadata": {
      "needs_background": "light"
     },
     "output_type": "display_data"
    },
    {
     "data": {
      "image/png": "[encoded data removed]",
      "text/plain": [
       "<Figure size 432x288 with 1 Axes>"
      ]
     },
     "metadata": {
      "needs_background": "light"
     },
     "output_type": "display_data"
    },
    {
     "data": {
      "image/png": "[encoded data removed]",
      "text/plain": [
       "<Figure size 432x288 with 1 Axes>"
      ]
     },
     "metadata": {
      "needs_background": "light"
     },
     "output_type": "display_data"
    },
    {
     "data": {
      "image/png": "[encoded data removed]",
      "text/plain": [
       "<Figure size 432x288 with 1 Axes>"
      ]
     },
     "metadata": {
      "needs_background": "light"
     },
     "output_type": "display_data"
    },
    {
     "data": {
      "image/png": "[encoded data removed]",
      "text/plain": [
       "<Figure size 432x288 with 1 Axes>"
      ]
     },
     "metadata": {
      "needs_background": "light"
     },
     "output_type": "display_data"
    },
    {
     "data": {
      "image/png": "[encoded data removed]",
      "text/plain": [
       "<Figure size 432x288 with 1 Axes>"
      ]
     },
     "metadata": {
      "needs_background": "light"
     },
     "output_type": "display_data"
    }
   ],
   "source": [
    "for c in train_cat:\n",
    "    for i in train_num:\n",
    "        sns.boxplot(data = train, x = train[c], y = np.log1p(train[i]))\n",
    "        plt.title(c)\n",
    "        plt.xticks(rotation = 45)\n",
    "        plt.show()"
   ]
  },
  {
   "cell_type": "markdown",
   "id": "e9bc08f4",
   "metadata": {},
   "source": [
    "* Median schwer einzuschätzen, da viele Werte auf 0 sind\n",
    "* should help us fill us missing values by groupby.transform\n"
   ]
  },
  {
   "cell_type": "code",
   "execution_count": 677,
   "id": "8c747cc6",
   "metadata": {},
   "outputs": [
    {
     "data": {
      "text/plain": [
       "<AxesSubplot:>"
      ]
     },
     "execution_count": 677,
     "metadata": {},
     "output_type": "execute_result"
    },
    {
     "data": {
      "image/png": "[encoded data removed]",
      "text/plain": [
       "<Figure size 432x288 with 2 Axes>"
      ]
     },
     "metadata": {
      "needs_background": "light"
     },
     "output_type": "display_data"
    }
   ],
   "source": [
    "# Mal Korrelation nur bei Leuten checken die nicht im Cryoschlaf sind\n",
    "corr = train[train_num].corr()\n",
    "sns.heatmap(corr, annot = True, fmt=\".1f\")"
   ]
  },
  {
   "cell_type": "markdown",
   "id": "0aaa180b",
   "metadata": {},
   "source": [
    "# Conclusion Correlation\n",
    "Numerical features are not very high correlated among each other, thus we should keep all features!\n",
    "\n",
    "Next Step: Find correlation to targer variable - somehow! "
   ]
  },
  {
   "cell_type": "markdown",
   "id": "f68db9e6",
   "metadata": {},
   "source": [
    "![purple-divider](https://user-images.githubusercontent.com/7065401/52071927-c1cd7100-2562-11e9-908a-dde91ba14e59.png)"
   ]
  },
  {
   "cell_type": "code",
   "execution_count": 678,
   "id": "1ad3e0e8",
   "metadata": {},
   "outputs": [
    {
     "data": {
      "text/html": [
       "<div>\n",
       "<style scoped>\n",
       "    .dataframe tbody tr th:only-of-type {\n",
       "        vertical-align: middle;\n",
       "    }\n",
       "\n",
       "    .dataframe tbody tr th {\n",
       "        vertical-align: top;\n",
       "    }\n",
       "\n",
       "    .dataframe thead th {\n",
       "        text-align: right;\n",
       "    }\n",
       "</style>\n",
       "<table border=\"1\" class=\"dataframe\">\n",
       "  <thead>\n",
       "    <tr style=\"text-align: right;\">\n",
       "      <th>Destination</th>\n",
       "      <th>55 Cancri e</th>\n",
       "      <th>PSO J318.5-22</th>\n",
       "      <th>TRAPPIST-1e</th>\n",
       "    </tr>\n",
       "    <tr>\n",
       "      <th>Transported</th>\n",
       "      <th></th>\n",
       "      <th></th>\n",
       "      <th></th>\n",
       "    </tr>\n",
       "  </thead>\n",
       "  <tbody>\n",
       "    <tr>\n",
       "      <th>False</th>\n",
       "      <td>702</td>\n",
       "      <td>395</td>\n",
       "      <td>3128</td>\n",
       "    </tr>\n",
       "    <tr>\n",
       "      <th>True</th>\n",
       "      <td>1098</td>\n",
       "      <td>401</td>\n",
       "      <td>2787</td>\n",
       "    </tr>\n",
       "  </tbody>\n",
       "</table>\n",
       "</div>"
      ],
      "text/plain": [
       "Destination  55 Cancri e  PSO J318.5-22  TRAPPIST-1e\n",
       "Transported                                         \n",
       "False                702            395         3128\n",
       "True                1098            401         2787"
      ]
     },
     "execution_count": 678,
     "metadata": {},
     "output_type": "execute_result"
    }
   ],
   "source": [
    "# survival dependent on Destination\n",
    "train.pivot_table(index=\"Transported\", columns=\"Destination\", values=\"PassengerId\", aggfunc=\"count\")"
   ]
  },
  {
   "cell_type": "code",
   "execution_count": 679,
   "id": "ff7128eb",
   "metadata": {},
   "outputs": [
    {
     "data": {
      "text/html": [
       "<div>\n",
       "<style scoped>\n",
       "    .dataframe tbody tr th:only-of-type {\n",
       "        vertical-align: middle;\n",
       "    }\n",
       "\n",
       "    .dataframe tbody tr th {\n",
       "        vertical-align: top;\n",
       "    }\n",
       "\n",
       "    .dataframe thead th {\n",
       "        text-align: right;\n",
       "    }\n",
       "</style>\n",
       "<table border=\"1\" class=\"dataframe\">\n",
       "  <thead>\n",
       "    <tr style=\"text-align: right;\">\n",
       "      <th>HomePlanet</th>\n",
       "      <th>Earth</th>\n",
       "      <th>Europa</th>\n",
       "      <th>Mars</th>\n",
       "    </tr>\n",
       "    <tr>\n",
       "      <th>Transported</th>\n",
       "      <th></th>\n",
       "      <th></th>\n",
       "      <th></th>\n",
       "    </tr>\n",
       "  </thead>\n",
       "  <tbody>\n",
       "    <tr>\n",
       "      <th>False</th>\n",
       "      <td>2651</td>\n",
       "      <td>727</td>\n",
       "      <td>839</td>\n",
       "    </tr>\n",
       "    <tr>\n",
       "      <th>True</th>\n",
       "      <td>1951</td>\n",
       "      <td>1404</td>\n",
       "      <td>920</td>\n",
       "    </tr>\n",
       "  </tbody>\n",
       "</table>\n",
       "</div>"
      ],
      "text/plain": [
       "HomePlanet   Earth  Europa  Mars\n",
       "Transported                     \n",
       "False         2651     727   839\n",
       "True          1951    1404   920"
      ]
     },
     "execution_count": 679,
     "metadata": {},
     "output_type": "execute_result"
    }
   ],
   "source": [
    "# survival dependent on HomePlanet\n",
    "train.pivot_table(index=\"Transported\", columns=\"HomePlanet\", values=\"PassengerId\", aggfunc= \"count\")"
   ]
  },
  {
   "cell_type": "code",
   "execution_count": 680,
   "id": "7a1c4ec5",
   "metadata": {},
   "outputs": [
    {
     "data": {
      "text/html": [
       "<div>\n",
       "<style scoped>\n",
       "    .dataframe tbody tr th:only-of-type {\n",
       "        vertical-align: middle;\n",
       "    }\n",
       "\n",
       "    .dataframe tbody tr th {\n",
       "        vertical-align: top;\n",
       "    }\n",
       "\n",
       "    .dataframe thead th {\n",
       "        text-align: right;\n",
       "    }\n",
       "</style>\n",
       "<table border=\"1\" class=\"dataframe\">\n",
       "  <thead>\n",
       "    <tr style=\"text-align: right;\">\n",
       "      <th>CryoSleep</th>\n",
       "      <th>False</th>\n",
       "      <th>True</th>\n",
       "    </tr>\n",
       "    <tr>\n",
       "      <th>Transported</th>\n",
       "      <th></th>\n",
       "      <th></th>\n",
       "    </tr>\n",
       "  </thead>\n",
       "  <tbody>\n",
       "    <tr>\n",
       "      <th>False</th>\n",
       "      <td>3650</td>\n",
       "      <td>554</td>\n",
       "    </tr>\n",
       "    <tr>\n",
       "      <th>True</th>\n",
       "      <td>1789</td>\n",
       "      <td>2483</td>\n",
       "    </tr>\n",
       "  </tbody>\n",
       "</table>\n",
       "</div>"
      ],
      "text/plain": [
       "CryoSleep    False  True \n",
       "Transported              \n",
       "False         3650    554\n",
       "True          1789   2483"
      ]
     },
     "execution_count": 680,
     "metadata": {},
     "output_type": "execute_result"
    }
   ],
   "source": [
    "# survival dependent on CryoSleep\n",
    "train.pivot_table(index=\"Transported\", columns=\"CryoSleep\", values=\"PassengerId\", aggfunc= \"count\")"
   ]
  },
  {
   "cell_type": "code",
   "execution_count": 681,
   "id": "ac7f2b43",
   "metadata": {},
   "outputs": [
    {
     "data": {
      "text/html": [
       "<div>\n",
       "<style scoped>\n",
       "    .dataframe tbody tr th:only-of-type {\n",
       "        vertical-align: middle;\n",
       "    }\n",
       "\n",
       "    .dataframe tbody tr th {\n",
       "        vertical-align: top;\n",
       "    }\n",
       "\n",
       "    .dataframe thead th {\n",
       "        text-align: right;\n",
       "    }\n",
       "</style>\n",
       "<table border=\"1\" class=\"dataframe\">\n",
       "  <thead>\n",
       "    <tr style=\"text-align: right;\">\n",
       "      <th>VIP</th>\n",
       "      <th>False</th>\n",
       "      <th>True</th>\n",
       "    </tr>\n",
       "    <tr>\n",
       "      <th>Transported</th>\n",
       "      <th></th>\n",
       "      <th></th>\n",
       "    </tr>\n",
       "  </thead>\n",
       "  <tbody>\n",
       "    <tr>\n",
       "      <th>False</th>\n",
       "      <td>4093</td>\n",
       "      <td>123</td>\n",
       "    </tr>\n",
       "    <tr>\n",
       "      <th>True</th>\n",
       "      <td>4198</td>\n",
       "      <td>76</td>\n",
       "    </tr>\n",
       "  </tbody>\n",
       "</table>\n",
       "</div>"
      ],
      "text/plain": [
       "VIP          False  True \n",
       "Transported              \n",
       "False         4093    123\n",
       "True          4198     76"
      ]
     },
     "execution_count": 681,
     "metadata": {},
     "output_type": "execute_result"
    }
   ],
   "source": [
    "# survival dependent on VIP\n",
    "train.pivot_table(index=\"Transported\", columns=\"VIP\", values=\"PassengerId\", aggfunc= \"count\")"
   ]
  },
  {
   "cell_type": "code",
   "execution_count": 682,
   "id": "3de2b6ac",
   "metadata": {},
   "outputs": [
    {
     "data": {
      "text/html": [
       "<div>\n",
       "<style scoped>\n",
       "    .dataframe tbody tr th:only-of-type {\n",
       "        vertical-align: middle;\n",
       "    }\n",
       "\n",
       "    .dataframe tbody tr th {\n",
       "        vertical-align: top;\n",
       "    }\n",
       "\n",
       "    .dataframe thead th {\n",
       "        text-align: right;\n",
       "    }\n",
       "</style>\n",
       "<table border=\"1\" class=\"dataframe\">\n",
       "  <thead>\n",
       "    <tr style=\"text-align: right;\">\n",
       "      <th>Transported</th>\n",
       "      <th>False</th>\n",
       "      <th>True</th>\n",
       "    </tr>\n",
       "    <tr>\n",
       "      <th>Cabin</th>\n",
       "      <th></th>\n",
       "      <th></th>\n",
       "    </tr>\n",
       "  </thead>\n",
       "  <tbody>\n",
       "    <tr>\n",
       "      <th>A/0/P</th>\n",
       "      <td>1.0</td>\n",
       "      <td>1.0</td>\n",
       "    </tr>\n",
       "    <tr>\n",
       "      <th>A/0/S</th>\n",
       "      <td>2.0</td>\n",
       "      <td>NaN</td>\n",
       "    </tr>\n",
       "    <tr>\n",
       "      <th>A/1/S</th>\n",
       "      <td>NaN</td>\n",
       "      <td>3.0</td>\n",
       "    </tr>\n",
       "    <tr>\n",
       "      <th>A/10/P</th>\n",
       "      <td>1.0</td>\n",
       "      <td>NaN</td>\n",
       "    </tr>\n",
       "    <tr>\n",
       "      <th>A/10/S</th>\n",
       "      <td>NaN</td>\n",
       "      <td>1.0</td>\n",
       "    </tr>\n",
       "    <tr>\n",
       "      <th>...</th>\n",
       "      <td>...</td>\n",
       "      <td>...</td>\n",
       "    </tr>\n",
       "    <tr>\n",
       "      <th>T/0/P</th>\n",
       "      <td>1.0</td>\n",
       "      <td>NaN</td>\n",
       "    </tr>\n",
       "    <tr>\n",
       "      <th>T/1/P</th>\n",
       "      <td>1.0</td>\n",
       "      <td>NaN</td>\n",
       "    </tr>\n",
       "    <tr>\n",
       "      <th>T/2/P</th>\n",
       "      <td>1.0</td>\n",
       "      <td>NaN</td>\n",
       "    </tr>\n",
       "    <tr>\n",
       "      <th>T/2/S</th>\n",
       "      <td>1.0</td>\n",
       "      <td>NaN</td>\n",
       "    </tr>\n",
       "    <tr>\n",
       "      <th>T/3/P</th>\n",
       "      <td>NaN</td>\n",
       "      <td>1.0</td>\n",
       "    </tr>\n",
       "  </tbody>\n",
       "</table>\n",
       "<p>6560 rows × 2 columns</p>\n",
       "</div>"
      ],
      "text/plain": [
       "Transported  False  True \n",
       "Cabin                    \n",
       "A/0/P          1.0    1.0\n",
       "A/0/S          2.0    NaN\n",
       "A/1/S          NaN    3.0\n",
       "A/10/P         1.0    NaN\n",
       "A/10/S         NaN    1.0\n",
       "...            ...    ...\n",
       "T/0/P          1.0    NaN\n",
       "T/1/P          1.0    NaN\n",
       "T/2/P          1.0    NaN\n",
       "T/2/S          1.0    NaN\n",
       "T/3/P          NaN    1.0\n",
       "\n",
       "[6560 rows x 2 columns]"
      ]
     },
     "execution_count": 682,
     "metadata": {},
     "output_type": "execute_result"
    }
   ],
   "source": [
    "# survival dependent on VIP\n",
    "train.pivot_table(index=\"Transported\", columns=\"Cabin\", values=\"PassengerId\", aggfunc= \"count\").T"
   ]
  },
  {
   "cell_type": "code",
   "execution_count": null,
   "id": "791957eb",
   "metadata": {},
   "outputs": [],
   "source": []
  },
  {
   "cell_type": "code",
   "execution_count": 683,
   "id": "e8dcfad3",
   "metadata": {},
   "outputs": [
    {
     "data": {
      "text/html": [
       "<div>\n",
       "<style scoped>\n",
       "    .dataframe tbody tr th:only-of-type {\n",
       "        vertical-align: middle;\n",
       "    }\n",
       "\n",
       "    .dataframe tbody tr th {\n",
       "        vertical-align: top;\n",
       "    }\n",
       "\n",
       "    .dataframe thead th {\n",
       "        text-align: right;\n",
       "    }\n",
       "</style>\n",
       "<table border=\"1\" class=\"dataframe\">\n",
       "  <thead>\n",
       "    <tr style=\"text-align: right;\">\n",
       "      <th></th>\n",
       "      <th>Transported</th>\n",
       "      <th>CryoSleep</th>\n",
       "      <th>PassengerId</th>\n",
       "      <th>HomePlanet</th>\n",
       "      <th>Cabin</th>\n",
       "      <th>Destination</th>\n",
       "      <th>Age</th>\n",
       "      <th>VIP</th>\n",
       "      <th>RoomService</th>\n",
       "      <th>FoodCourt</th>\n",
       "      <th>ShoppingMall</th>\n",
       "      <th>Spa</th>\n",
       "      <th>VRDeck</th>\n",
       "      <th>Name</th>\n",
       "    </tr>\n",
       "  </thead>\n",
       "  <tbody>\n",
       "    <tr>\n",
       "      <th>0</th>\n",
       "      <td>False</td>\n",
       "      <td>False</td>\n",
       "      <td>3650</td>\n",
       "      <td>3563</td>\n",
       "      <td>3571</td>\n",
       "      <td>3564</td>\n",
       "      <td>3580</td>\n",
       "      <td>3576</td>\n",
       "      <td>3569</td>\n",
       "      <td>3576</td>\n",
       "      <td>3578</td>\n",
       "      <td>3571</td>\n",
       "      <td>3571</td>\n",
       "      <td>3569</td>\n",
       "    </tr>\n",
       "    <tr>\n",
       "      <th>1</th>\n",
       "      <td>False</td>\n",
       "      <td>True</td>\n",
       "      <td>554</td>\n",
       "      <td>544</td>\n",
       "      <td>537</td>\n",
       "      <td>551</td>\n",
       "      <td>536</td>\n",
       "      <td>535</td>\n",
       "      <td>538</td>\n",
       "      <td>546</td>\n",
       "      <td>538</td>\n",
       "      <td>543</td>\n",
       "      <td>545</td>\n",
       "      <td>542</td>\n",
       "    </tr>\n",
       "    <tr>\n",
       "      <th>2</th>\n",
       "      <td>True</td>\n",
       "      <td>False</td>\n",
       "      <td>1789</td>\n",
       "      <td>1752</td>\n",
       "      <td>1760</td>\n",
       "      <td>1745</td>\n",
       "      <td>1763</td>\n",
       "      <td>1742</td>\n",
       "      <td>1759</td>\n",
       "      <td>1753</td>\n",
       "      <td>1757</td>\n",
       "      <td>1755</td>\n",
       "      <td>1749</td>\n",
       "      <td>1742</td>\n",
       "    </tr>\n",
       "    <tr>\n",
       "      <th>3</th>\n",
       "      <td>True</td>\n",
       "      <td>True</td>\n",
       "      <td>2483</td>\n",
       "      <td>2418</td>\n",
       "      <td>2416</td>\n",
       "      <td>2438</td>\n",
       "      <td>2419</td>\n",
       "      <td>2427</td>\n",
       "      <td>2431</td>\n",
       "      <td>2421</td>\n",
       "      <td>2403</td>\n",
       "      <td>2429</td>\n",
       "      <td>2430</td>\n",
       "      <td>2433</td>\n",
       "    </tr>\n",
       "  </tbody>\n",
       "</table>\n",
       "</div>"
      ],
      "text/plain": [
       "   Transported  CryoSleep  PassengerId  HomePlanet  Cabin  Destination   Age  \\\n",
       "0        False      False         3650        3563   3571         3564  3580   \n",
       "1        False       True          554         544    537          551   536   \n",
       "2         True      False         1789        1752   1760         1745  1763   \n",
       "3         True       True         2483        2418   2416         2438  2419   \n",
       "\n",
       "    VIP  RoomService  FoodCourt  ShoppingMall   Spa  VRDeck  Name  \n",
       "0  3576         3569       3576          3578  3571    3571  3569  \n",
       "1   535          538        546           538   543     545   542  \n",
       "2  1742         1759       1753          1757  1755    1749  1742  \n",
       "3  2427         2431       2421          2403  2429    2430  2433  "
      ]
     },
     "execution_count": 683,
     "metadata": {},
     "output_type": "execute_result"
    }
   ],
   "source": [
    "# how many ppl have survived with cryosleep \n",
    "cryo_df_count = train.groupby([\"Transported\", \"CryoSleep\"]).count().reset_index()\n",
    "cryo_df_count\n",
    "#jetzt noch Service_x_count um herauszufinden, wie viele Personen pro Service gestorben sind"
   ]
  },
  {
   "cell_type": "code",
   "execution_count": 684,
   "id": "3e6ea4cc",
   "metadata": {},
   "outputs": [
    {
     "data": {
      "text/plain": [
       "<seaborn.axisgrid.FacetGrid at 0x7ffad44a4340>"
      ]
     },
     "execution_count": 684,
     "metadata": {},
     "output_type": "execute_result"
    },
    {
     "data": {
      "image/png": "[encoded data removed]",
      "text/plain": [
       "<Figure size 427.125x360 with 1 Axes>"
      ]
     },
     "metadata": {
      "needs_background": "light"
     },
     "output_type": "display_data"
    }
   ],
   "source": [
    "sns.catplot(data = cryo_df_count , x=\"CryoSleep\", y = \"PassengerId\" , hue=\"Transported\", kind=\"bar\")"
   ]
  },
  {
   "cell_type": "code",
   "execution_count": 685,
   "id": "1108c490",
   "metadata": {},
   "outputs": [
    {
     "data": {
      "text/html": [
       "<div>\n",
       "<style scoped>\n",
       "    .dataframe tbody tr th:only-of-type {\n",
       "        vertical-align: middle;\n",
       "    }\n",
       "\n",
       "    .dataframe tbody tr th {\n",
       "        vertical-align: top;\n",
       "    }\n",
       "\n",
       "    .dataframe thead th {\n",
       "        text-align: right;\n",
       "    }\n",
       "</style>\n",
       "<table border=\"1\" class=\"dataframe\">\n",
       "  <thead>\n",
       "    <tr style=\"text-align: right;\">\n",
       "      <th></th>\n",
       "      <th>Transported</th>\n",
       "      <th>HomePlanet</th>\n",
       "      <th>level_2</th>\n",
       "      <th>0</th>\n",
       "    </tr>\n",
       "  </thead>\n",
       "  <tbody>\n",
       "    <tr>\n",
       "      <th>0</th>\n",
       "      <td>False</td>\n",
       "      <td>Earth</td>\n",
       "      <td>Age</td>\n",
       "      <td>27.526559</td>\n",
       "    </tr>\n",
       "    <tr>\n",
       "      <th>1</th>\n",
       "      <td>False</td>\n",
       "      <td>Earth</td>\n",
       "      <td>RoomService</td>\n",
       "      <td>196.489370</td>\n",
       "    </tr>\n",
       "    <tr>\n",
       "      <th>2</th>\n",
       "      <td>False</td>\n",
       "      <td>Earth</td>\n",
       "      <td>FoodCourt</td>\n",
       "      <td>114.177220</td>\n",
       "    </tr>\n",
       "    <tr>\n",
       "      <th>3</th>\n",
       "      <td>False</td>\n",
       "      <td>Earth</td>\n",
       "      <td>ShoppingMall</td>\n",
       "      <td>108.256074</td>\n",
       "    </tr>\n",
       "    <tr>\n",
       "      <th>4</th>\n",
       "      <td>False</td>\n",
       "      <td>Earth</td>\n",
       "      <td>Spa</td>\n",
       "      <td>218.701118</td>\n",
       "    </tr>\n",
       "    <tr>\n",
       "      <th>5</th>\n",
       "      <td>False</td>\n",
       "      <td>Earth</td>\n",
       "      <td>VRDeck</td>\n",
       "      <td>207.375725</td>\n",
       "    </tr>\n",
       "    <tr>\n",
       "      <th>6</th>\n",
       "      <td>False</td>\n",
       "      <td>Europa</td>\n",
       "      <td>Age</td>\n",
       "      <td>36.588483</td>\n",
       "    </tr>\n",
       "    <tr>\n",
       "      <th>7</th>\n",
       "      <td>False</td>\n",
       "      <td>Europa</td>\n",
       "      <td>RoomService</td>\n",
       "      <td>352.870423</td>\n",
       "    </tr>\n",
       "    <tr>\n",
       "      <th>8</th>\n",
       "      <td>False</td>\n",
       "      <td>Europa</td>\n",
       "      <td>FoodCourt</td>\n",
       "      <td>1724.696801</td>\n",
       "    </tr>\n",
       "    <tr>\n",
       "      <th>9</th>\n",
       "      <td>False</td>\n",
       "      <td>Europa</td>\n",
       "      <td>ShoppingMall</td>\n",
       "      <td>162.040903</td>\n",
       "    </tr>\n",
       "    <tr>\n",
       "      <th>10</th>\n",
       "      <td>False</td>\n",
       "      <td>Europa</td>\n",
       "      <td>Spa</td>\n",
       "      <td>2240.669944</td>\n",
       "    </tr>\n",
       "    <tr>\n",
       "      <th>11</th>\n",
       "      <td>False</td>\n",
       "      <td>Europa</td>\n",
       "      <td>VRDeck</td>\n",
       "      <td>2289.286313</td>\n",
       "    </tr>\n",
       "    <tr>\n",
       "      <th>12</th>\n",
       "      <td>False</td>\n",
       "      <td>Mars</td>\n",
       "      <td>Age</td>\n",
       "      <td>31.975550</td>\n",
       "    </tr>\n",
       "    <tr>\n",
       "      <th>13</th>\n",
       "      <td>False</td>\n",
       "      <td>Mars</td>\n",
       "      <td>RoomService</td>\n",
       "      <td>1032.780340</td>\n",
       "    </tr>\n",
       "    <tr>\n",
       "      <th>14</th>\n",
       "      <td>False</td>\n",
       "      <td>Mars</td>\n",
       "      <td>FoodCourt</td>\n",
       "      <td>71.515152</td>\n",
       "    </tr>\n",
       "    <tr>\n",
       "      <th>15</th>\n",
       "      <td>False</td>\n",
       "      <td>Mars</td>\n",
       "      <td>ShoppingMall</td>\n",
       "      <td>360.247874</td>\n",
       "    </tr>\n",
       "    <tr>\n",
       "      <th>16</th>\n",
       "      <td>False</td>\n",
       "      <td>Mars</td>\n",
       "      <td>Spa</td>\n",
       "      <td>219.567600</td>\n",
       "    </tr>\n",
       "    <tr>\n",
       "      <th>17</th>\n",
       "      <td>False</td>\n",
       "      <td>Mars</td>\n",
       "      <td>VRDeck</td>\n",
       "      <td>90.250000</td>\n",
       "    </tr>\n",
       "    <tr>\n",
       "      <th>18</th>\n",
       "      <td>True</td>\n",
       "      <td>Earth</td>\n",
       "      <td>Age</td>\n",
       "      <td>24.090814</td>\n",
       "    </tr>\n",
       "    <tr>\n",
       "      <th>19</th>\n",
       "      <td>True</td>\n",
       "      <td>Earth</td>\n",
       "      <td>RoomService</td>\n",
       "      <td>56.368201</td>\n",
       "    </tr>\n",
       "    <tr>\n",
       "      <th>20</th>\n",
       "      <td>True</td>\n",
       "      <td>Earth</td>\n",
       "      <td>FoodCourt</td>\n",
       "      <td>168.405744</td>\n",
       "    </tr>\n",
       "    <tr>\n",
       "      <th>21</th>\n",
       "      <td>True</td>\n",
       "      <td>Earth</td>\n",
       "      <td>ShoppingMall</td>\n",
       "      <td>168.887717</td>\n",
       "    </tr>\n",
       "    <tr>\n",
       "      <th>22</th>\n",
       "      <td>True</td>\n",
       "      <td>Earth</td>\n",
       "      <td>Spa</td>\n",
       "      <td>39.714136</td>\n",
       "    </tr>\n",
       "    <tr>\n",
       "      <th>23</th>\n",
       "      <td>True</td>\n",
       "      <td>Earth</td>\n",
       "      <td>VRDeck</td>\n",
       "      <td>44.051471</td>\n",
       "    </tr>\n",
       "    <tr>\n",
       "      <th>24</th>\n",
       "      <td>True</td>\n",
       "      <td>Europa</td>\n",
       "      <td>Age</td>\n",
       "      <td>33.294975</td>\n",
       "    </tr>\n",
       "    <tr>\n",
       "      <th>25</th>\n",
       "      <td>True</td>\n",
       "      <td>Europa</td>\n",
       "      <td>RoomService</td>\n",
       "      <td>38.789170</td>\n",
       "    </tr>\n",
       "    <tr>\n",
       "      <th>26</th>\n",
       "      <td>True</td>\n",
       "      <td>Europa</td>\n",
       "      <td>FoodCourt</td>\n",
       "      <td>1386.633968</td>\n",
       "    </tr>\n",
       "    <tr>\n",
       "      <th>27</th>\n",
       "      <td>True</td>\n",
       "      <td>Europa</td>\n",
       "      <td>ShoppingMall</td>\n",
       "      <td>145.483565</td>\n",
       "    </tr>\n",
       "    <tr>\n",
       "      <th>28</th>\n",
       "      <td>True</td>\n",
       "      <td>Europa</td>\n",
       "      <td>Spa</td>\n",
       "      <td>126.409753</td>\n",
       "    </tr>\n",
       "    <tr>\n",
       "      <th>29</th>\n",
       "      <td>True</td>\n",
       "      <td>Europa</td>\n",
       "      <td>VRDeck</td>\n",
       "      <td>141.309869</td>\n",
       "    </tr>\n",
       "    <tr>\n",
       "      <th>30</th>\n",
       "      <td>True</td>\n",
       "      <td>Mars</td>\n",
       "      <td>Age</td>\n",
       "      <td>26.857461</td>\n",
       "    </tr>\n",
       "    <tr>\n",
       "      <th>31</th>\n",
       "      <td>True</td>\n",
       "      <td>Mars</td>\n",
       "      <td>RoomService</td>\n",
       "      <td>113.048943</td>\n",
       "    </tr>\n",
       "    <tr>\n",
       "      <th>32</th>\n",
       "      <td>True</td>\n",
       "      <td>Mars</td>\n",
       "      <td>FoodCourt</td>\n",
       "      <td>38.568080</td>\n",
       "    </tr>\n",
       "    <tr>\n",
       "      <th>33</th>\n",
       "      <td>True</td>\n",
       "      <td>Mars</td>\n",
       "      <td>ShoppingMall</td>\n",
       "      <td>261.075556</td>\n",
       "    </tr>\n",
       "    <tr>\n",
       "      <th>34</th>\n",
       "      <td>True</td>\n",
       "      <td>Mars</td>\n",
       "      <td>Spa</td>\n",
       "      <td>10.695122</td>\n",
       "    </tr>\n",
       "    <tr>\n",
       "      <th>35</th>\n",
       "      <td>True</td>\n",
       "      <td>Mars</td>\n",
       "      <td>VRDeck</td>\n",
       "      <td>8.071429</td>\n",
       "    </tr>\n",
       "  </tbody>\n",
       "</table>\n",
       "</div>"
      ],
      "text/plain": [
       "    Transported HomePlanet       level_2            0\n",
       "0         False      Earth           Age    27.526559\n",
       "1         False      Earth   RoomService   196.489370\n",
       "2         False      Earth     FoodCourt   114.177220\n",
       "3         False      Earth  ShoppingMall   108.256074\n",
       "4         False      Earth           Spa   218.701118\n",
       "5         False      Earth        VRDeck   207.375725\n",
       "6         False     Europa           Age    36.588483\n",
       "7         False     Europa   RoomService   352.870423\n",
       "8         False     Europa     FoodCourt  1724.696801\n",
       "9         False     Europa  ShoppingMall   162.040903\n",
       "10        False     Europa           Spa  2240.669944\n",
       "11        False     Europa        VRDeck  2289.286313\n",
       "12        False       Mars           Age    31.975550\n",
       "13        False       Mars   RoomService  1032.780340\n",
       "14        False       Mars     FoodCourt    71.515152\n",
       "15        False       Mars  ShoppingMall   360.247874\n",
       "16        False       Mars           Spa   219.567600\n",
       "17        False       Mars        VRDeck    90.250000\n",
       "18         True      Earth           Age    24.090814\n",
       "19         True      Earth   RoomService    56.368201\n",
       "20         True      Earth     FoodCourt   168.405744\n",
       "21         True      Earth  ShoppingMall   168.887717\n",
       "22         True      Earth           Spa    39.714136\n",
       "23         True      Earth        VRDeck    44.051471\n",
       "24         True     Europa           Age    33.294975\n",
       "25         True     Europa   RoomService    38.789170\n",
       "26         True     Europa     FoodCourt  1386.633968\n",
       "27         True     Europa  ShoppingMall   145.483565\n",
       "28         True     Europa           Spa   126.409753\n",
       "29         True     Europa        VRDeck   141.309869\n",
       "30         True       Mars           Age    26.857461\n",
       "31         True       Mars   RoomService   113.048943\n",
       "32         True       Mars     FoodCourt    38.568080\n",
       "33         True       Mars  ShoppingMall   261.075556\n",
       "34         True       Mars           Spa    10.695122\n",
       "35         True       Mars        VRDeck     8.071429"
      ]
     },
     "execution_count": 685,
     "metadata": {},
     "output_type": "execute_result"
    }
   ],
   "source": [
    "cryo_df_mean = train.groupby([\"Transported\", \"HomePlanet\"]).mean()\n",
    "cryo_df_mean=pd.DataFrame(cryo_df_mean.stack()).reset_index()\n",
    "cryo_df_mean\n"
   ]
  },
  {
   "cell_type": "code",
   "execution_count": 686,
   "id": "2afdd90e",
   "metadata": {},
   "outputs": [
    {
     "data": {
      "text/plain": [
       "<seaborn.axisgrid.FacetGrid at 0x7ffadbd8dc40>"
      ]
     },
     "execution_count": 686,
     "metadata": {},
     "output_type": "execute_result"
    },
    {
     "data": {
      "text/plain": [
       "<Figure size 720x864 with 0 Axes>"
      ]
     },
     "metadata": {},
     "output_type": "display_data"
    },
    {
     "data": {
      "image/png": "[encoded data removed]",
      "text/plain": [
       "<Figure size 1147.12x720 with 6 Axes>"
      ]
     },
     "metadata": {
      "needs_background": "light"
     },
     "output_type": "display_data"
    }
   ],
   "source": [
    "plt.figure(figsize=(10,12))\n",
    "sns.catplot(data = cryo_df_mean , x=\"HomePlanet\", y = 0 , \n",
    "            hue=\"Transported\", col=\"level_2\",kind=\"bar\",col_wrap = 3)"
   ]
  },
  {
   "cell_type": "markdown",
   "id": "0ed2711b",
   "metadata": {},
   "source": [
    "* if ppl spend money on average more money on Roomservice, no matter from which Homeplanet, they died to a high probability\n",
    "* if ppl spend more money in Spa or VR in average, and came from Europa, they died\n",
    "\n",
    "* combination of Roomservice and homeplanet is important and Europa + Spa and Europa + VRDeck"
   ]
  },
  {
   "cell_type": "code",
   "execution_count": null,
   "id": "771490c0",
   "metadata": {},
   "outputs": [],
   "source": []
  },
  {
   "cell_type": "code",
   "execution_count": 687,
   "id": "4d6af025",
   "metadata": {},
   "outputs": [
    {
     "data": {
      "text/html": [
       "<div>\n",
       "<style scoped>\n",
       "    .dataframe tbody tr th:only-of-type {\n",
       "        vertical-align: middle;\n",
       "    }\n",
       "\n",
       "    .dataframe tbody tr th {\n",
       "        vertical-align: top;\n",
       "    }\n",
       "\n",
       "    .dataframe thead th {\n",
       "        text-align: right;\n",
       "    }\n",
       "</style>\n",
       "<table border=\"1\" class=\"dataframe\">\n",
       "  <thead>\n",
       "    <tr style=\"text-align: right;\">\n",
       "      <th></th>\n",
       "      <th>Transported</th>\n",
       "      <th>HomePlanet</th>\n",
       "      <th>RoomService</th>\n",
       "      <th>FoodCourt</th>\n",
       "      <th>ShoppingMall</th>\n",
       "      <th>Spa</th>\n",
       "      <th>VRDeck</th>\n",
       "      <th>0</th>\n",
       "    </tr>\n",
       "  </thead>\n",
       "  <tbody>\n",
       "    <tr>\n",
       "      <th>0</th>\n",
       "      <td>False</td>\n",
       "      <td>Earth</td>\n",
       "      <td>0.0</td>\n",
       "      <td>0.0</td>\n",
       "      <td>0.0</td>\n",
       "      <td>0.0</td>\n",
       "      <td>595.0</td>\n",
       "      <td>1</td>\n",
       "    </tr>\n",
       "    <tr>\n",
       "      <th>1</th>\n",
       "      <td>False</td>\n",
       "      <td>Earth</td>\n",
       "      <td>0.0</td>\n",
       "      <td>0.0</td>\n",
       "      <td>0.0</td>\n",
       "      <td>0.0</td>\n",
       "      <td>607.0</td>\n",
       "      <td>1</td>\n",
       "    </tr>\n",
       "    <tr>\n",
       "      <th>2</th>\n",
       "      <td>False</td>\n",
       "      <td>Earth</td>\n",
       "      <td>0.0</td>\n",
       "      <td>0.0</td>\n",
       "      <td>0.0</td>\n",
       "      <td>0.0</td>\n",
       "      <td>616.0</td>\n",
       "      <td>1</td>\n",
       "    </tr>\n",
       "    <tr>\n",
       "      <th>3</th>\n",
       "      <td>False</td>\n",
       "      <td>Earth</td>\n",
       "      <td>0.0</td>\n",
       "      <td>0.0</td>\n",
       "      <td>0.0</td>\n",
       "      <td>0.0</td>\n",
       "      <td>628.0</td>\n",
       "      <td>1</td>\n",
       "    </tr>\n",
       "    <tr>\n",
       "      <th>4</th>\n",
       "      <td>False</td>\n",
       "      <td>Earth</td>\n",
       "      <td>0.0</td>\n",
       "      <td>0.0</td>\n",
       "      <td>0.0</td>\n",
       "      <td>0.0</td>\n",
       "      <td>645.0</td>\n",
       "      <td>1</td>\n",
       "    </tr>\n",
       "    <tr>\n",
       "      <th>...</th>\n",
       "      <td>...</td>\n",
       "      <td>...</td>\n",
       "      <td>...</td>\n",
       "      <td>...</td>\n",
       "      <td>...</td>\n",
       "      <td>...</td>\n",
       "      <td>...</td>\n",
       "      <td>...</td>\n",
       "    </tr>\n",
       "    <tr>\n",
       "      <th>5022</th>\n",
       "      <td>True</td>\n",
       "      <td>Mars</td>\n",
       "      <td>2301.0</td>\n",
       "      <td>0.0</td>\n",
       "      <td>414.0</td>\n",
       "      <td>0.0</td>\n",
       "      <td>0.0</td>\n",
       "      <td>1</td>\n",
       "    </tr>\n",
       "    <tr>\n",
       "      <th>5023</th>\n",
       "      <td>True</td>\n",
       "      <td>Mars</td>\n",
       "      <td>2318.0</td>\n",
       "      <td>0.0</td>\n",
       "      <td>647.0</td>\n",
       "      <td>81.0</td>\n",
       "      <td>0.0</td>\n",
       "      <td>1</td>\n",
       "    </tr>\n",
       "    <tr>\n",
       "      <th>5024</th>\n",
       "      <td>True</td>\n",
       "      <td>Mars</td>\n",
       "      <td>2627.0</td>\n",
       "      <td>0.0</td>\n",
       "      <td>597.0</td>\n",
       "      <td>0.0</td>\n",
       "      <td>0.0</td>\n",
       "      <td>1</td>\n",
       "    </tr>\n",
       "    <tr>\n",
       "      <th>5025</th>\n",
       "      <td>True</td>\n",
       "      <td>Mars</td>\n",
       "      <td>2997.0</td>\n",
       "      <td>0.0</td>\n",
       "      <td>3.0</td>\n",
       "      <td>0.0</td>\n",
       "      <td>7.0</td>\n",
       "      <td>1</td>\n",
       "    </tr>\n",
       "    <tr>\n",
       "      <th>5026</th>\n",
       "      <td>True</td>\n",
       "      <td>Mars</td>\n",
       "      <td>3992.0</td>\n",
       "      <td>673.0</td>\n",
       "      <td>1360.0</td>\n",
       "      <td>2.0</td>\n",
       "      <td>0.0</td>\n",
       "      <td>1</td>\n",
       "    </tr>\n",
       "  </tbody>\n",
       "</table>\n",
       "<p>5027 rows × 8 columns</p>\n",
       "</div>"
      ],
      "text/plain": [
       "      Transported HomePlanet  RoomService  FoodCourt  ShoppingMall   Spa  \\\n",
       "0           False      Earth          0.0        0.0           0.0   0.0   \n",
       "1           False      Earth          0.0        0.0           0.0   0.0   \n",
       "2           False      Earth          0.0        0.0           0.0   0.0   \n",
       "3           False      Earth          0.0        0.0           0.0   0.0   \n",
       "4           False      Earth          0.0        0.0           0.0   0.0   \n",
       "...           ...        ...          ...        ...           ...   ...   \n",
       "5022         True       Mars       2301.0        0.0         414.0   0.0   \n",
       "5023         True       Mars       2318.0        0.0         647.0  81.0   \n",
       "5024         True       Mars       2627.0        0.0         597.0   0.0   \n",
       "5025         True       Mars       2997.0        0.0           3.0   0.0   \n",
       "5026         True       Mars       3992.0      673.0        1360.0   2.0   \n",
       "\n",
       "      VRDeck  0  \n",
       "0      595.0  1  \n",
       "1      607.0  1  \n",
       "2      616.0  1  \n",
       "3      628.0  1  \n",
       "4      645.0  1  \n",
       "...      ... ..  \n",
       "5022     0.0  1  \n",
       "5023     0.0  1  \n",
       "5024     0.0  1  \n",
       "5025     7.0  1  \n",
       "5026     0.0  1  \n",
       "\n",
       "[5027 rows x 8 columns]"
      ]
     },
     "execution_count": 687,
     "metadata": {},
     "output_type": "execute_result"
    }
   ],
   "source": [
    "home_service_df = service_df.groupby([\"Transported\", \"HomePlanet\", \"RoomService\", \"FoodCourt\",\n",
    "                                 \"ShoppingMall\", \"Spa\", \"VRDeck\"]).size().reset_index()\n",
    "home_service_df"
   ]
  },
  {
   "cell_type": "code",
   "execution_count": 688,
   "id": "2baf5b18",
   "metadata": {},
   "outputs": [
    {
     "data": {
      "text/plain": [
       "Index(['PassengerId', 'HomePlanet', 'CryoSleep', 'Cabin', 'Destination', 'Age',\n",
       "       'VIP', 'RoomService', 'FoodCourt', 'ShoppingMall', 'Spa', 'VRDeck',\n",
       "       'Name'],\n",
       "      dtype='object')"
      ]
     },
     "execution_count": 688,
     "metadata": {},
     "output_type": "execute_result"
    }
   ],
   "source": [
    "test.isna().sum().index\n"
   ]
  },
  {
   "cell_type": "markdown",
   "id": "55c1707f",
   "metadata": {},
   "source": [
    "# Feature Engineering"
   ]
  },
  {
   "cell_type": "code",
   "execution_count": 689,
   "id": "f0ca573f",
   "metadata": {},
   "outputs": [
    {
     "data": {
      "text/plain": [
       "0    TRAPPIST-1e\n",
       "dtype: object"
      ]
     },
     "execution_count": 689,
     "metadata": {},
     "output_type": "execute_result"
    }
   ],
   "source": [
    "train.Destination.mode()"
   ]
  },
  {
   "cell_type": "code",
   "execution_count": 690,
   "id": "81e85511",
   "metadata": {},
   "outputs": [],
   "source": [
    "#train= train[~train[\"ShoppingMall\"].isna()]\n",
    "train[\"Age\"].fillna(train.groupby(\"HomePlanet\")[\"Age\"].transform(\"mean\"),inplace=True)\n",
    "train[\"Age\"].fillna(train[\"Age\"].mean(), inplace=True)\n",
    "test[\"Age\"].fillna(test.groupby(\"HomePlanet\")[\"Age\"].transform(\"mean\"),inplace=True)\n",
    "test[\"Age\"].fillna(test[\"Age\"].mean(), inplace=True)\n",
    "\n",
    "\n",
    "\n",
    "\n",
    "#train = train[~train[\"Age\"].isna()]\n",
    "#train = train.dropna()\n",
    "#test = test.dropna()"
   ]
  },
  {
   "cell_type": "code",
   "execution_count": 691,
   "id": "5929945e",
   "metadata": {},
   "outputs": [
    {
     "data": {
      "text/plain": [
       "'Earth'"
      ]
     },
     "execution_count": 691,
     "metadata": {},
     "output_type": "execute_result"
    }
   ],
   "source": [
    "train[\"HomePlanet\"].mode().values[0]"
   ]
  },
  {
   "cell_type": "code",
   "execution_count": 692,
   "id": "a5c6763e",
   "metadata": {},
   "outputs": [],
   "source": [
    "def filling(df):\n",
    "    for i in df.columns:\n",
    "        df[i].fillna(df[i].mode().values[0], inplace=True)\n",
    "    return df\n",
    "\n",
    "train = filling(train)\n",
    "test = filling(test)"
   ]
  },
  {
   "cell_type": "code",
   "execution_count": 693,
   "id": "8273a7ee",
   "metadata": {},
   "outputs": [
    {
     "data": {
      "text/plain": [
       "PassengerId     0\n",
       "HomePlanet      0\n",
       "CryoSleep       0\n",
       "Cabin           0\n",
       "Destination     0\n",
       "Age             0\n",
       "VIP             0\n",
       "RoomService     0\n",
       "FoodCourt       0\n",
       "ShoppingMall    0\n",
       "Spa             0\n",
       "VRDeck          0\n",
       "Name            0\n",
       "dtype: int64"
      ]
     },
     "execution_count": 693,
     "metadata": {},
     "output_type": "execute_result"
    }
   ],
   "source": [
    "test.isna().sum()"
   ]
  },
  {
   "cell_type": "code",
   "execution_count": 694,
   "id": "72b32dbd",
   "metadata": {},
   "outputs": [
    {
     "data": {
      "text/html": [
       "<div>\n",
       "<style scoped>\n",
       "    .dataframe tbody tr th:only-of-type {\n",
       "        vertical-align: middle;\n",
       "    }\n",
       "\n",
       "    .dataframe tbody tr th {\n",
       "        vertical-align: top;\n",
       "    }\n",
       "\n",
       "    .dataframe thead th {\n",
       "        text-align: right;\n",
       "    }\n",
       "</style>\n",
       "<table border=\"1\" class=\"dataframe\">\n",
       "  <thead>\n",
       "    <tr style=\"text-align: right;\">\n",
       "      <th>cabin_side</th>\n",
       "      <th>P</th>\n",
       "      <th>S</th>\n",
       "    </tr>\n",
       "    <tr>\n",
       "      <th>Transported</th>\n",
       "      <th></th>\n",
       "      <th></th>\n",
       "    </tr>\n",
       "  </thead>\n",
       "  <tbody>\n",
       "    <tr>\n",
       "      <th>False</th>\n",
       "      <td>2308</td>\n",
       "      <td>2007</td>\n",
       "    </tr>\n",
       "    <tr>\n",
       "      <th>True</th>\n",
       "      <td>1898</td>\n",
       "      <td>2480</td>\n",
       "    </tr>\n",
       "  </tbody>\n",
       "</table>\n",
       "</div>"
      ],
      "text/plain": [
       "cabin_side      P     S\n",
       "Transported            \n",
       "False        2308  2007\n",
       "True         1898  2480"
      ]
     },
     "execution_count": 694,
     "metadata": {},
     "output_type": "execute_result"
    }
   ],
   "source": [
    "train.Name = train.Name.astype(\"str\")\n",
    "train.Cabin = train.Cabin.astype(\"str\")\n",
    "test.Name = test.Name.astype(\"str\")\n",
    "test.Cabin = test.Cabin.astype(\"str\")\n",
    "#train = train[train[\"Cabin\"]!=\"nan\"]\n",
    "train[\"cabin_side\"] = train[\"Cabin\"].apply(lambda x: x.split(\"/\")[2])\n",
    "train[\"cabin_deck\"] = train[\"Cabin\"].apply(lambda x: x.split(\"/\")[0])\n",
    "test[\"cabin_side\"] = test[\"Cabin\"].apply(lambda x: x.split(\"/\")[2])\n",
    "test[\"cabin_deck\"] = test[\"Cabin\"].apply(lambda x: x.split(\"/\")[0])\n",
    "\n",
    "# survival dependent on cabin_side\n",
    "train.pivot_table(index=\"Transported\", columns=\"cabin_side\", values=\"PassengerId\", aggfunc= \"count\")\n",
    "#people on cabin with S had a higher chance to survive"
   ]
  },
  {
   "cell_type": "code",
   "execution_count": 695,
   "id": "b3adf505",
   "metadata": {},
   "outputs": [],
   "source": [
    "#find groups that traveled together\n",
    "train[\"ticket_grp\"] = train.PassengerId.apply(lambda x: x.split(\"_\")[0])\n",
    "train[\"surname\"] = train.Name.apply(lambda x: x.split(\" \")[-1])\n",
    "test[\"ticket_grp\"] = test.PassengerId.apply(lambda x: x.split(\"_\")[0])\n",
    "test[\"surname\"] = test.Name.apply(lambda x: x.split(\" \")[-1])\n"
   ]
  },
  {
   "cell_type": "code",
   "execution_count": 696,
   "id": "4268d2f5",
   "metadata": {},
   "outputs": [],
   "source": [
    "# travel_grp\n",
    "def travel_grp(df):\n",
    "    df[\"travel_grp\"] = 0\n",
    "    for grp, grp_df in df.groupby(\"ticket_grp\"):\n",
    "        if len(grp_df)>1:\n",
    "\n",
    "            for ind, row in grp_df.iterrows():\n",
    "                grp_id = row[\"PassengerId\"]\n",
    "\n",
    "                df.loc[df[\"PassengerId\"]==grp_id, \"travel_grp\"]= 1\n",
    "    return df\n",
    "      \n",
    "train = travel_grp(train)\n",
    "test = travel_grp(test)\n",
    "\n",
    "    \n",
    "    "
   ]
  },
  {
   "cell_type": "code",
   "execution_count": 697,
   "id": "378941d9",
   "metadata": {},
   "outputs": [
    {
     "data": {
      "text/html": [
       "<div>\n",
       "<style scoped>\n",
       "    .dataframe tbody tr th:only-of-type {\n",
       "        vertical-align: middle;\n",
       "    }\n",
       "\n",
       "    .dataframe tbody tr th {\n",
       "        vertical-align: top;\n",
       "    }\n",
       "\n",
       "    .dataframe thead th {\n",
       "        text-align: right;\n",
       "    }\n",
       "</style>\n",
       "<table border=\"1\" class=\"dataframe\">\n",
       "  <thead>\n",
       "    <tr style=\"text-align: right;\">\n",
       "      <th></th>\n",
       "      <th>Transported</th>\n",
       "      <th>travel_grp</th>\n",
       "      <th>0</th>\n",
       "    </tr>\n",
       "  </thead>\n",
       "  <tbody>\n",
       "    <tr>\n",
       "      <th>0</th>\n",
       "      <td>False</td>\n",
       "      <td>0</td>\n",
       "      <td>2631</td>\n",
       "    </tr>\n",
       "    <tr>\n",
       "      <th>1</th>\n",
       "      <td>False</td>\n",
       "      <td>1</td>\n",
       "      <td>1684</td>\n",
       "    </tr>\n",
       "    <tr>\n",
       "      <th>2</th>\n",
       "      <td>True</td>\n",
       "      <td>0</td>\n",
       "      <td>2174</td>\n",
       "    </tr>\n",
       "    <tr>\n",
       "      <th>3</th>\n",
       "      <td>True</td>\n",
       "      <td>1</td>\n",
       "      <td>2204</td>\n",
       "    </tr>\n",
       "  </tbody>\n",
       "</table>\n",
       "</div>"
      ],
      "text/plain": [
       "   Transported  travel_grp     0\n",
       "0        False           0  2631\n",
       "1        False           1  1684\n",
       "2         True           0  2174\n",
       "3         True           1  2204"
      ]
     },
     "execution_count": 697,
     "metadata": {},
     "output_type": "execute_result"
    }
   ],
   "source": [
    "travelgrp_df = train.groupby([\"Transported\",\"travel_grp\"]).size().reset_index()\n",
    "travelgrp_df"
   ]
  },
  {
   "cell_type": "code",
   "execution_count": 698,
   "id": "9c08df6c",
   "metadata": {},
   "outputs": [
    {
     "data": {
      "text/plain": [
       "<AxesSubplot:xlabel='travel_grp', ylabel='0'>"
      ]
     },
     "execution_count": 698,
     "metadata": {},
     "output_type": "execute_result"
    },
    {
     "data": {
      "image/png": "[encoded data removed]",
      "text/plain": [
       "<Figure size 432x288 with 1 Axes>"
      ]
     },
     "metadata": {
      "needs_background": "light"
     },
     "output_type": "display_data"
    }
   ],
   "source": [
    "sns.barplot(data=travelgrp_df, x=\"travel_grp\", y= 0, hue=\"Transported\")"
   ]
  },
  {
   "cell_type": "markdown",
   "id": "9073e51f",
   "metadata": {},
   "source": [
    "* travel grp has an impact on the survivability of the passengers!"
   ]
  },
  {
   "cell_type": "code",
   "execution_count": 699,
   "id": "f25bd4c2",
   "metadata": {},
   "outputs": [],
   "source": [
    "# family\n",
    "def fam_grp(df):\n",
    "    df[\"family\"] = 0\n",
    "    for grp, grp_df in df.groupby(\"surname\"):\n",
    "        if len(grp_df)>1:\n",
    "            for ind, row in grp_df.iterrows():\n",
    "                grp_id = row[\"PassengerId\"]\n",
    "                df.loc[df[\"PassengerId\"]==grp_id, \"family\"]= 1\n",
    "    return df\n",
    "            \n",
    "train = fam_grp(train)\n",
    "test = fam_grp(test)"
   ]
  },
  {
   "cell_type": "code",
   "execution_count": 700,
   "id": "a5340e0e",
   "metadata": {},
   "outputs": [
    {
     "data": {
      "text/html": [
       "<div>\n",
       "<style scoped>\n",
       "    .dataframe tbody tr th:only-of-type {\n",
       "        vertical-align: middle;\n",
       "    }\n",
       "\n",
       "    .dataframe tbody tr th {\n",
       "        vertical-align: top;\n",
       "    }\n",
       "\n",
       "    .dataframe thead th {\n",
       "        text-align: right;\n",
       "    }\n",
       "</style>\n",
       "<table border=\"1\" class=\"dataframe\">\n",
       "  <thead>\n",
       "    <tr style=\"text-align: right;\">\n",
       "      <th></th>\n",
       "      <th>Transported</th>\n",
       "      <th>family</th>\n",
       "      <th>0</th>\n",
       "    </tr>\n",
       "  </thead>\n",
       "  <tbody>\n",
       "    <tr>\n",
       "      <th>0</th>\n",
       "      <td>False</td>\n",
       "      <td>0</td>\n",
       "      <td>159</td>\n",
       "    </tr>\n",
       "    <tr>\n",
       "      <th>1</th>\n",
       "      <td>False</td>\n",
       "      <td>1</td>\n",
       "      <td>4156</td>\n",
       "    </tr>\n",
       "    <tr>\n",
       "      <th>2</th>\n",
       "      <td>True</td>\n",
       "      <td>0</td>\n",
       "      <td>223</td>\n",
       "    </tr>\n",
       "    <tr>\n",
       "      <th>3</th>\n",
       "      <td>True</td>\n",
       "      <td>1</td>\n",
       "      <td>4155</td>\n",
       "    </tr>\n",
       "  </tbody>\n",
       "</table>\n",
       "</div>"
      ],
      "text/plain": [
       "   Transported  family     0\n",
       "0        False       0   159\n",
       "1        False       1  4156\n",
       "2         True       0   223\n",
       "3         True       1  4155"
      ]
     },
     "execution_count": 700,
     "metadata": {},
     "output_type": "execute_result"
    }
   ],
   "source": [
    "family_df = train.groupby([\"Transported\",\"family\"]).size().reset_index()\n",
    "family_df"
   ]
  },
  {
   "cell_type": "code",
   "execution_count": 701,
   "id": "018b59d4",
   "metadata": {},
   "outputs": [
    {
     "data": {
      "text/plain": [
       "<AxesSubplot:xlabel='family', ylabel='0'>"
      ]
     },
     "execution_count": 701,
     "metadata": {},
     "output_type": "execute_result"
    },
    {
     "data": {
      "image/png": "[encoded data removed]",
      "text/plain": [
       "<Figure size 432x288 with 1 Axes>"
      ]
     },
     "metadata": {
      "needs_background": "light"
     },
     "output_type": "display_data"
    }
   ],
   "source": [
    "sns.barplot(data=family_df, x=\"family\", y= 0, hue=\"Transported\")"
   ]
  },
  {
   "cell_type": "markdown",
   "id": "498894dd",
   "metadata": {},
   "source": [
    "* family column has no impact on the prediction\n",
    "* maybe a combination of deck, cabin, homeplanet and money_spent"
   ]
  },
  {
   "cell_type": "code",
   "execution_count": 702,
   "id": "4e0f4999",
   "metadata": {},
   "outputs": [
    {
     "data": {
      "text/plain": [
       "<seaborn.axisgrid.FacetGrid at 0x7ffadcc00490>"
      ]
     },
     "execution_count": 702,
     "metadata": {},
     "output_type": "execute_result"
    },
    {
     "data": {
      "image/png": "[encoded data removed]",
      "text/plain": [
       "<Figure size 931.125x360 with 3 Axes>"
      ]
     },
     "metadata": {
      "needs_background": "light"
     },
     "output_type": "display_data"
    }
   ],
   "source": [
    "sns.catplot(data=train[train[\"ShoppingMall\"]>0], y=\"ShoppingMall\",\n",
    "            x = \"HomePlanet\", hue = \"Transported\",col = \"Destination\",\n",
    "            kind=\"box\", height=5, aspect=.8)"
   ]
  },
  {
   "cell_type": "markdown",
   "id": "ed640409",
   "metadata": {},
   "source": [
    "* Marsianer haben mehr ausgegeben in der Regel, wo hatten die ihre Zimmer? evtl neue Spalte, scalen oder OHE"
   ]
  },
  {
   "cell_type": "code",
   "execution_count": 703,
   "id": "44d70b79",
   "metadata": {},
   "outputs": [
    {
     "data": {
      "text/plain": [
       "<seaborn.axisgrid.FacetGrid at 0x7ffadcbe80d0>"
      ]
     },
     "execution_count": 703,
     "metadata": {},
     "output_type": "execute_result"
    },
    {
     "data": {
      "image/png": "[encoded data removed]",
      "text/plain": [
       "<Figure size 1150.88x360 with 3 Axes>"
      ]
     },
     "metadata": {
      "needs_background": "light"
     },
     "output_type": "display_data"
    }
   ],
   "source": [
    "sns.catplot(data=train[train[\"ShoppingMall\"]>0], y=\"ShoppingMall\",\n",
    "            x = \"Transported\", hue = \"HomePlanet\",col = \"Destination\", kind=\"box\")"
   ]
  },
  {
   "cell_type": "markdown",
   "id": "bcae2bd6",
   "metadata": {},
   "source": [
    "* Vom Mars haben mehr ausgegeben \n",
    "* Europäer wollen nicht nach PSO"
   ]
  },
  {
   "cell_type": "code",
   "execution_count": 704,
   "id": "bcd7fdc2",
   "metadata": {},
   "outputs": [
    {
     "data": {
      "text/plain": [
       "Destination    HomePlanet\n",
       "55 Cancri e    Earth         126.592233\n",
       "               Europa        124.600451\n",
       "               Mars          386.642487\n",
       "PSO J318.5-22  Earth          92.796703\n",
       "               Europa        104.631579\n",
       "               Mars          379.428571\n",
       "TRAPPIST-1e    Earth         140.058736\n",
       "               Europa        164.494290\n",
       "               Mars          288.884641\n",
       "Name: ShoppingMall, dtype: float64"
      ]
     },
     "execution_count": 704,
     "metadata": {},
     "output_type": "execute_result"
    }
   ],
   "source": [
    "train.groupby([ \"Destination\", \"HomePlanet\"])[\"ShoppingMall\"].mean()"
   ]
  },
  {
   "cell_type": "code",
   "execution_count": 705,
   "id": "a4c1835e",
   "metadata": {},
   "outputs": [],
   "source": [
    "# sum over 'RoomService', 'FoodCourt', 'ShoppingMall', 'Spa', 'VRDeck'\n",
    "train[\"spent_total\"] = np.sum(train[['RoomService', 'FoodCourt', 'ShoppingMall', 'Spa', 'VRDeck']], axis=1)\n",
    "test[\"spent_total\"] = np.sum(test[['RoomService', 'FoodCourt', 'ShoppingMall', 'Spa', 'VRDeck']], axis=1)\n"
   ]
  },
  {
   "cell_type": "code",
   "execution_count": 706,
   "id": "f9a537d7",
   "metadata": {},
   "outputs": [],
   "source": [
    "\n",
    "# rates for service and courts\n",
    "def service_rates(df):\n",
    "    rate_list = []\n",
    "    for i in ['RoomService', 'FoodCourt', 'ShoppingMall', 'Spa', 'VRDeck']:\n",
    "\n",
    "        var= f'{i}_rate'\n",
    "\n",
    "        df[var] = df.apply(lambda x: x[i]/x[\"spent_total\"] if x[i]> 0 else 0, axis=1)\n",
    "        rate_list.append(var)\n",
    "    return df\n",
    "\n",
    "train = service_rates(train)\n",
    "test = service_rates(test)\n"
   ]
  },
  {
   "cell_type": "code",
   "execution_count": 707,
   "id": "32c32722",
   "metadata": {},
   "outputs": [],
   "source": [
    "train[\"age_to_money\"] = train.apply(lambda x: x[\"Age\"]/ x[\"spent_total\"] if x[\"spent_total\"] > 0 else 0, axis=1)\n",
    "#train[\"shopping_rate\"] = train.apply(lambda x: x[\"ShoppingMall\"] / x[\"spent_total\"] \n",
    " #                                    if x[\"ShoppingMall\"] > 0 else 0, axis=1)\n",
    "\n",
    "test[\"age_to_money\"] = test.apply(lambda x: x[\"Age\"]/ x[\"spent_total\"] if x[\"spent_total\"] > 0 else 0, axis=1)\n",
    "#test[\"shopping_rate\"] = test.apply(lambda x: x[\"ShoppingMall\"] / x[\"spent_total\"] \n",
    " #                                    if x[\"ShoppingMall\"] > 0 else 0, axis=1)"
   ]
  },
  {
   "cell_type": "code",
   "execution_count": 708,
   "id": "c2e9b7aa",
   "metadata": {},
   "outputs": [],
   "source": [
    "def age_binning(x):\n",
    "  if x <= 6:\n",
    "    return \"baby\"\n",
    "  if x < 13:\n",
    "    return \"child\"\n",
    "  if x < 18:\n",
    "    return \"teen\"\n",
    "  if x < 35:\n",
    "    return \"adult\"\n",
    "  if x < 60:\n",
    "    return \"mid\"\n",
    "  else:\n",
    "    return \"grand\"\n",
    "\n",
    "train[\"age_bin\"] = train.Age.apply(age_binning)\n",
    "test[\"age_bin\"] = test.Age.apply(age_binning)"
   ]
  },
  {
   "cell_type": "code",
   "execution_count": 709,
   "id": "497e208d",
   "metadata": {},
   "outputs": [
    {
     "data": {
      "text/html": [
       "<div>\n",
       "<style scoped>\n",
       "    .dataframe tbody tr th:only-of-type {\n",
       "        vertical-align: middle;\n",
       "    }\n",
       "\n",
       "    .dataframe tbody tr th {\n",
       "        vertical-align: top;\n",
       "    }\n",
       "\n",
       "    .dataframe thead th {\n",
       "        text-align: right;\n",
       "    }\n",
       "</style>\n",
       "<table border=\"1\" class=\"dataframe\">\n",
       "  <thead>\n",
       "    <tr style=\"text-align: right;\">\n",
       "      <th></th>\n",
       "      <th>Transported</th>\n",
       "      <th>cabin_deck</th>\n",
       "      <th>HomePlanet</th>\n",
       "      <th>PassengerId</th>\n",
       "    </tr>\n",
       "  </thead>\n",
       "  <tbody>\n",
       "    <tr>\n",
       "      <th>0</th>\n",
       "      <td>False</td>\n",
       "      <td>A</td>\n",
       "      <td>Earth</td>\n",
       "      <td>2</td>\n",
       "    </tr>\n",
       "    <tr>\n",
       "      <th>1</th>\n",
       "      <td>False</td>\n",
       "      <td>A</td>\n",
       "      <td>Europa</td>\n",
       "      <td>127</td>\n",
       "    </tr>\n",
       "    <tr>\n",
       "      <th>2</th>\n",
       "      <td>False</td>\n",
       "      <td>B</td>\n",
       "      <td>Earth</td>\n",
       "      <td>3</td>\n",
       "    </tr>\n",
       "    <tr>\n",
       "      <th>3</th>\n",
       "      <td>False</td>\n",
       "      <td>B</td>\n",
       "      <td>Europa</td>\n",
       "      <td>204</td>\n",
       "    </tr>\n",
       "    <tr>\n",
       "      <th>4</th>\n",
       "      <td>False</td>\n",
       "      <td>C</td>\n",
       "      <td>Earth</td>\n",
       "      <td>2</td>\n",
       "    </tr>\n",
       "    <tr>\n",
       "      <th>5</th>\n",
       "      <td>False</td>\n",
       "      <td>C</td>\n",
       "      <td>Europa</td>\n",
       "      <td>237</td>\n",
       "    </tr>\n",
       "    <tr>\n",
       "      <th>6</th>\n",
       "      <td>False</td>\n",
       "      <td>D</td>\n",
       "      <td>Earth</td>\n",
       "      <td>6</td>\n",
       "    </tr>\n",
       "    <tr>\n",
       "      <th>7</th>\n",
       "      <td>False</td>\n",
       "      <td>D</td>\n",
       "      <td>Europa</td>\n",
       "      <td>77</td>\n",
       "    </tr>\n",
       "    <tr>\n",
       "      <th>8</th>\n",
       "      <td>False</td>\n",
       "      <td>D</td>\n",
       "      <td>Mars</td>\n",
       "      <td>188</td>\n",
       "    </tr>\n",
       "    <tr>\n",
       "      <th>9</th>\n",
       "      <td>False</td>\n",
       "      <td>E</td>\n",
       "      <td>Earth</td>\n",
       "      <td>261</td>\n",
       "    </tr>\n",
       "    <tr>\n",
       "      <th>10</th>\n",
       "      <td>False</td>\n",
       "      <td>E</td>\n",
       "      <td>Europa</td>\n",
       "      <td>58</td>\n",
       "    </tr>\n",
       "    <tr>\n",
       "      <th>11</th>\n",
       "      <td>False</td>\n",
       "      <td>E</td>\n",
       "      <td>Mars</td>\n",
       "      <td>244</td>\n",
       "    </tr>\n",
       "    <tr>\n",
       "      <th>12</th>\n",
       "      <td>False</td>\n",
       "      <td>F</td>\n",
       "      <td>Earth</td>\n",
       "      <td>1177</td>\n",
       "    </tr>\n",
       "    <tr>\n",
       "      <th>13</th>\n",
       "      <td>False</td>\n",
       "      <td>F</td>\n",
       "      <td>Mars</td>\n",
       "      <td>388</td>\n",
       "    </tr>\n",
       "    <tr>\n",
       "      <th>14</th>\n",
       "      <td>False</td>\n",
       "      <td>G</td>\n",
       "      <td>Earth</td>\n",
       "      <td>1297</td>\n",
       "    </tr>\n",
       "    <tr>\n",
       "      <th>15</th>\n",
       "      <td>False</td>\n",
       "      <td>G</td>\n",
       "      <td>Europa</td>\n",
       "      <td>21</td>\n",
       "    </tr>\n",
       "    <tr>\n",
       "      <th>16</th>\n",
       "      <td>False</td>\n",
       "      <td>G</td>\n",
       "      <td>Mars</td>\n",
       "      <td>19</td>\n",
       "    </tr>\n",
       "    <tr>\n",
       "      <th>17</th>\n",
       "      <td>False</td>\n",
       "      <td>T</td>\n",
       "      <td>Earth</td>\n",
       "      <td>1</td>\n",
       "    </tr>\n",
       "    <tr>\n",
       "      <th>18</th>\n",
       "      <td>False</td>\n",
       "      <td>T</td>\n",
       "      <td>Europa</td>\n",
       "      <td>3</td>\n",
       "    </tr>\n",
       "    <tr>\n",
       "      <th>19</th>\n",
       "      <td>True</td>\n",
       "      <td>A</td>\n",
       "      <td>Earth</td>\n",
       "      <td>2</td>\n",
       "    </tr>\n",
       "    <tr>\n",
       "      <th>20</th>\n",
       "      <td>True</td>\n",
       "      <td>A</td>\n",
       "      <td>Europa</td>\n",
       "      <td>125</td>\n",
       "    </tr>\n",
       "    <tr>\n",
       "      <th>21</th>\n",
       "      <td>True</td>\n",
       "      <td>B</td>\n",
       "      <td>Earth</td>\n",
       "      <td>10</td>\n",
       "    </tr>\n",
       "    <tr>\n",
       "      <th>22</th>\n",
       "      <td>True</td>\n",
       "      <td>B</td>\n",
       "      <td>Europa</td>\n",
       "      <td>562</td>\n",
       "    </tr>\n",
       "    <tr>\n",
       "      <th>23</th>\n",
       "      <td>True</td>\n",
       "      <td>C</td>\n",
       "      <td>Earth</td>\n",
       "      <td>11</td>\n",
       "    </tr>\n",
       "    <tr>\n",
       "      <th>24</th>\n",
       "      <td>True</td>\n",
       "      <td>C</td>\n",
       "      <td>Europa</td>\n",
       "      <td>497</td>\n",
       "    </tr>\n",
       "    <tr>\n",
       "      <th>25</th>\n",
       "      <td>True</td>\n",
       "      <td>D</td>\n",
       "      <td>Earth</td>\n",
       "      <td>4</td>\n",
       "    </tr>\n",
       "    <tr>\n",
       "      <th>26</th>\n",
       "      <td>True</td>\n",
       "      <td>D</td>\n",
       "      <td>Europa</td>\n",
       "      <td>109</td>\n",
       "    </tr>\n",
       "    <tr>\n",
       "      <th>27</th>\n",
       "      <td>True</td>\n",
       "      <td>D</td>\n",
       "      <td>Mars</td>\n",
       "      <td>94</td>\n",
       "    </tr>\n",
       "    <tr>\n",
       "      <th>28</th>\n",
       "      <td>True</td>\n",
       "      <td>E</td>\n",
       "      <td>Earth</td>\n",
       "      <td>157</td>\n",
       "    </tr>\n",
       "    <tr>\n",
       "      <th>29</th>\n",
       "      <td>True</td>\n",
       "      <td>E</td>\n",
       "      <td>Europa</td>\n",
       "      <td>70</td>\n",
       "    </tr>\n",
       "    <tr>\n",
       "      <th>30</th>\n",
       "      <td>True</td>\n",
       "      <td>E</td>\n",
       "      <td>Mars</td>\n",
       "      <td>86</td>\n",
       "    </tr>\n",
       "    <tr>\n",
       "      <th>31</th>\n",
       "      <td>True</td>\n",
       "      <td>F</td>\n",
       "      <td>Earth</td>\n",
       "      <td>507</td>\n",
       "    </tr>\n",
       "    <tr>\n",
       "      <th>32</th>\n",
       "      <td>True</td>\n",
       "      <td>F</td>\n",
       "      <td>Mars</td>\n",
       "      <td>722</td>\n",
       "    </tr>\n",
       "    <tr>\n",
       "      <th>33</th>\n",
       "      <td>True</td>\n",
       "      <td>G</td>\n",
       "      <td>Earth</td>\n",
       "      <td>1363</td>\n",
       "    </tr>\n",
       "    <tr>\n",
       "      <th>34</th>\n",
       "      <td>True</td>\n",
       "      <td>G</td>\n",
       "      <td>Europa</td>\n",
       "      <td>40</td>\n",
       "    </tr>\n",
       "    <tr>\n",
       "      <th>35</th>\n",
       "      <td>True</td>\n",
       "      <td>G</td>\n",
       "      <td>Mars</td>\n",
       "      <td>18</td>\n",
       "    </tr>\n",
       "    <tr>\n",
       "      <th>36</th>\n",
       "      <td>True</td>\n",
       "      <td>T</td>\n",
       "      <td>Europa</td>\n",
       "      <td>1</td>\n",
       "    </tr>\n",
       "  </tbody>\n",
       "</table>\n",
       "</div>"
      ],
      "text/plain": [
       "    Transported cabin_deck HomePlanet  PassengerId\n",
       "0         False          A      Earth            2\n",
       "1         False          A     Europa          127\n",
       "2         False          B      Earth            3\n",
       "3         False          B     Europa          204\n",
       "4         False          C      Earth            2\n",
       "5         False          C     Europa          237\n",
       "6         False          D      Earth            6\n",
       "7         False          D     Europa           77\n",
       "8         False          D       Mars          188\n",
       "9         False          E      Earth          261\n",
       "10        False          E     Europa           58\n",
       "11        False          E       Mars          244\n",
       "12        False          F      Earth         1177\n",
       "13        False          F       Mars          388\n",
       "14        False          G      Earth         1297\n",
       "15        False          G     Europa           21\n",
       "16        False          G       Mars           19\n",
       "17        False          T      Earth            1\n",
       "18        False          T     Europa            3\n",
       "19         True          A      Earth            2\n",
       "20         True          A     Europa          125\n",
       "21         True          B      Earth           10\n",
       "22         True          B     Europa          562\n",
       "23         True          C      Earth           11\n",
       "24         True          C     Europa          497\n",
       "25         True          D      Earth            4\n",
       "26         True          D     Europa          109\n",
       "27         True          D       Mars           94\n",
       "28         True          E      Earth          157\n",
       "29         True          E     Europa           70\n",
       "30         True          E       Mars           86\n",
       "31         True          F      Earth          507\n",
       "32         True          F       Mars          722\n",
       "33         True          G      Earth         1363\n",
       "34         True          G     Europa           40\n",
       "35         True          G       Mars           18\n",
       "36         True          T     Europa            1"
      ]
     },
     "execution_count": 709,
     "metadata": {},
     "output_type": "execute_result"
    }
   ],
   "source": [
    "# distribution of decks for transported ppl\n",
    "decks = train.groupby([\"Transported\", \"cabin_deck\", \"HomePlanet\"])[\"PassengerId\"].count().reset_index()\n",
    "decks\n"
   ]
  },
  {
   "cell_type": "code",
   "execution_count": 710,
   "id": "1bb051b3",
   "metadata": {},
   "outputs": [
    {
     "data": {
      "text/plain": [
       "<AxesSubplot:xlabel='cabin_deck', ylabel='PassengerId'>"
      ]
     },
     "execution_count": 710,
     "metadata": {},
     "output_type": "execute_result"
    },
    {
     "data": {
      "image/png": "[encoded data removed]",
      "text/plain": [
       "<Figure size 432x288 with 1 Axes>"
      ]
     },
     "metadata": {
      "needs_background": "light"
     },
     "output_type": "display_data"
    }
   ],
   "source": [
    "# distribution of decks for transported ppl\n",
    "sns.barplot(data=decks, x = \"cabin_deck\", y = \"PassengerId\", hue = \"Transported\")"
   ]
  },
  {
   "cell_type": "markdown",
   "id": "dabf336f",
   "metadata": {},
   "source": [
    "* evtl. B und C : 3\n",
    "* A, D, G: 2\n",
    "* E, F: 1"
   ]
  },
  {
   "cell_type": "code",
   "execution_count": 711,
   "id": "1b791c02",
   "metadata": {},
   "outputs": [],
   "source": [
    "def cabin_converter(row):\n",
    "    if row== \"B\" or row==\"C\":\n",
    "        return 3\n",
    "    if row== \"E\" or row==\"F\":\n",
    "        return 2\n",
    "    else:\n",
    "        return 1"
   ]
  },
  {
   "cell_type": "code",
   "execution_count": 712,
   "id": "80d9334e",
   "metadata": {},
   "outputs": [],
   "source": [
    "train[\"cabin_num\"] = train.cabin_deck.apply(cabin_converter)\n",
    "test[\"cabin_num\"] = test.cabin_deck.apply(cabin_converter)"
   ]
  },
  {
   "cell_type": "code",
   "execution_count": null,
   "id": "dc79c2af",
   "metadata": {},
   "outputs": [],
   "source": []
  },
  {
   "cell_type": "markdown",
   "id": "79582c6f",
   "metadata": {},
   "source": [
    "### Use numerical values for Homeplanet to make calculation with cabindecks"
   ]
  },
  {
   "cell_type": "code",
   "execution_count": 713,
   "id": "f4dde7c4",
   "metadata": {},
   "outputs": [],
   "source": [
    "def planet_converter(row):\n",
    "    if row== \"Earth\":\n",
    "        return 1\n",
    "    if row == \"Europa\":\n",
    "        return 2\n",
    "    else:\n",
    "        3"
   ]
  },
  {
   "cell_type": "code",
   "execution_count": 714,
   "id": "046b17be",
   "metadata": {},
   "outputs": [],
   "source": [
    "train[\"home_num\"] = train.HomePlanet.apply(planet_converter)\n",
    "test[\"home_num\"] = test.HomePlanet.apply(planet_converter)"
   ]
  },
  {
   "cell_type": "code",
   "execution_count": 715,
   "id": "1d845248",
   "metadata": {},
   "outputs": [],
   "source": [
    "train[\"home_cabin_rate\"] = train[\"cabin_num\"] * train[\"home_num\"]\n",
    "test[\"home_cabin_rate\"] = test[\"cabin_num\"] * test[\"home_num\"]"
   ]
  },
  {
   "cell_type": "code",
   "execution_count": null,
   "id": "9ba21b78",
   "metadata": {},
   "outputs": [],
   "source": []
  },
  {
   "cell_type": "code",
   "execution_count": 716,
   "id": "da87d4bd",
   "metadata": {},
   "outputs": [
    {
     "data": {
      "text/plain": [
       "<seaborn.axisgrid.FacetGrid at 0x7ffaf00fdc70>"
      ]
     },
     "execution_count": 716,
     "metadata": {},
     "output_type": "execute_result"
    },
    {
     "data": {
      "image/png": "[encoded data removed]",
      "text/plain": [
       "<Figure size 1147.12x360 with 3 Axes>"
      ]
     },
     "metadata": {
      "needs_background": "light"
     },
     "output_type": "display_data"
    }
   ],
   "source": [
    "sns.catplot(data=decks, x = \"cabin_deck\", y = \"PassengerId\",col=\"HomePlanet\", hue = \"Transported\", kind=\"bar\")"
   ]
  },
  {
   "cell_type": "markdown",
   "id": "15b2ae24",
   "metadata": {},
   "source": [
    "* Europa eher obere Decks und in B und C eher überlebt haben\n",
    "* MArs D und E eher gestorben und in F eher überlebt\n",
    "* Von Earth in F mehr gestorben, insgesamt mehr Menschen und auf Deck F hohe W'keit für Tod\n",
    "# important\n",
    "# F und Erde= nicht gut\n",
    "# F und Mars = sehr gut"
   ]
  },
  {
   "cell_type": "markdown",
   "id": "8f8c24bc",
   "metadata": {},
   "source": [
    "# investigate each service for each homeplanet"
   ]
  },
  {
   "cell_type": "code",
   "execution_count": 717,
   "id": "3ecd6644",
   "metadata": {},
   "outputs": [],
   "source": [
    "service_df = train[train[\"spent_total\"]>0]\n",
    "room_df = service_df[service_df[\"RoomService\"]>0]\n",
    "food_df = service_df[service_df[\"FoodCourt\"]>0]\n",
    "shop_df = service_df[service_df[\"ShoppingMall\"]>0]\n",
    "spa_df = service_df[service_df[\"Spa\"]>0]\n",
    "vr_df = service_df[service_df[\"VRDeck\"]>0]"
   ]
  },
  {
   "cell_type": "code",
   "execution_count": 835,
   "id": "eda8babe",
   "metadata": {},
   "outputs": [],
   "source": [
    "#service_grp = service_df.groupby([\"Transported\", \"HomePlanet\"]).size().reset_index()\n",
    "room_grp = room_df.groupby([\"Transported\", \"HomePlanet\"]).size().reset_index()\n",
    "food_grp = food_df.groupby([\"Transported\", \"HomePlanet\"]).size().reset_index()\n",
    "shop_grp = shop_df.groupby([\"Transported\", \"HomePlanet\"]).size().reset_index()\n",
    "spa_grp = spa_df.groupby([\"Transported\", \"HomePlanet\"]).size().reset_index()\n",
    "vr_grp = vr_df.groupby([\"Transported\", \"HomePlanet\"]).size().reset_index()"
   ]
  },
  {
   "cell_type": "code",
   "execution_count": 889,
   "id": "15222586",
   "metadata": {},
   "outputs": [],
   "source": []
  },
  {
   "cell_type": "code",
   "execution_count": null,
   "id": "f65a039f",
   "metadata": {},
   "outputs": [],
   "source": [
    "for i, v in enumerate([service_grp ,room_grp, food_grp, shop_grp, vr_grp]):\n",
    "    print(i)\n",
    "    print(f'i % 2: {i%2}')\n",
    "    print(f'i % 3: {i%3}')"
   ]
  },
  {
   "cell_type": "code",
   "execution_count": 892,
   "id": "dfc9a1d9",
   "metadata": {},
   "outputs": [
    {
     "data": {
      "image/png": "[encoded data removed]",
      "text/plain": [
       "<Figure size 720x576 with 6 Axes>"
      ]
     },
     "metadata": {
      "needs_background": "light"
     },
     "output_type": "display_data"
    }
   ],
   "source": [
    "courts = [\"room\", \"food\", \"shop\", \"spa\", \"vr\"]\n",
    "zipped = zip([room_grp, food_grp, shop_grp,spa_grp, vr_grp], [\"room\", \"food\", \"shop\", \"spa\", \"vr\"])\n",
    "\n",
    "fig, ax = plt.subplots(2,3, figsize=(10,8))\n",
    "\n",
    "# enumerate zipped returns (i, (frame, name))\n",
    "for i, (k,v) in enumerate(list(zipped)):\n",
    "    sns.barplot(data = k, x=\"HomePlanet\", y=0, hue=\"Transported\" ,ax=ax[i%2,i%3])\n",
    "    ax[i%2,i%3].set_title(v)\n",
    "    plt.ylabel(\"Amount\")\n",
    "    plt.tight_layout()\n",
    "    plt.title(i)\n",
    "    \n",
    "    \n",
    "   "
   ]
  },
  {
   "cell_type": "code",
   "execution_count": null,
   "id": "59aeef38",
   "metadata": {},
   "outputs": [],
   "source": []
  },
  {
   "cell_type": "code",
   "execution_count": null,
   "id": "52768b0d",
   "metadata": {},
   "outputs": [],
   "source": []
  },
  {
   "cell_type": "code",
   "execution_count": 718,
   "id": "f4789d05",
   "metadata": {},
   "outputs": [],
   "source": [
    "def planet_deck(df):\n",
    "    df[\"planet_deck\"] = df[\"cabin_deck\"]+\"_\"+df[\"HomePlanet\"]\n",
    "    return df\n",
    "train = planet_deck(train)\n",
    "test = planet_deck(test)"
   ]
  },
  {
   "cell_type": "code",
   "execution_count": 719,
   "id": "cbeea483",
   "metadata": {},
   "outputs": [],
   "source": [
    "# distribution of money spent on each court/service\n",
    "transported_spent = pd.melt(train, id_vars=\"Transported\", value_vars=[\"RoomService\", \"FoodCourt\", \"ShoppingMall\"\n",
    "                                               , \"Spa\", \"VRDeck\"])"
   ]
  },
  {
   "cell_type": "code",
   "execution_count": 720,
   "id": "640ecb51",
   "metadata": {},
   "outputs": [
    {
     "data": {
      "text/html": [
       "<div>\n",
       "<style scoped>\n",
       "    .dataframe tbody tr th:only-of-type {\n",
       "        vertical-align: middle;\n",
       "    }\n",
       "\n",
       "    .dataframe tbody tr th {\n",
       "        vertical-align: top;\n",
       "    }\n",
       "\n",
       "    .dataframe thead th {\n",
       "        text-align: right;\n",
       "    }\n",
       "</style>\n",
       "<table border=\"1\" class=\"dataframe\">\n",
       "  <thead>\n",
       "    <tr style=\"text-align: right;\">\n",
       "      <th></th>\n",
       "      <th>Transported</th>\n",
       "      <th>variable</th>\n",
       "      <th>value</th>\n",
       "    </tr>\n",
       "  </thead>\n",
       "  <tbody>\n",
       "    <tr>\n",
       "      <th>0</th>\n",
       "      <td>False</td>\n",
       "      <td>RoomService</td>\n",
       "      <td>0.0</td>\n",
       "    </tr>\n",
       "    <tr>\n",
       "      <th>1</th>\n",
       "      <td>True</td>\n",
       "      <td>RoomService</td>\n",
       "      <td>109.0</td>\n",
       "    </tr>\n",
       "    <tr>\n",
       "      <th>2</th>\n",
       "      <td>False</td>\n",
       "      <td>RoomService</td>\n",
       "      <td>43.0</td>\n",
       "    </tr>\n",
       "    <tr>\n",
       "      <th>3</th>\n",
       "      <td>False</td>\n",
       "      <td>RoomService</td>\n",
       "      <td>0.0</td>\n",
       "    </tr>\n",
       "    <tr>\n",
       "      <th>4</th>\n",
       "      <td>True</td>\n",
       "      <td>RoomService</td>\n",
       "      <td>303.0</td>\n",
       "    </tr>\n",
       "    <tr>\n",
       "      <th>...</th>\n",
       "      <td>...</td>\n",
       "      <td>...</td>\n",
       "      <td>...</td>\n",
       "    </tr>\n",
       "    <tr>\n",
       "      <th>43460</th>\n",
       "      <td>False</td>\n",
       "      <td>VRDeck</td>\n",
       "      <td>74.0</td>\n",
       "    </tr>\n",
       "    <tr>\n",
       "      <th>43461</th>\n",
       "      <td>False</td>\n",
       "      <td>VRDeck</td>\n",
       "      <td>0.0</td>\n",
       "    </tr>\n",
       "    <tr>\n",
       "      <th>43462</th>\n",
       "      <td>True</td>\n",
       "      <td>VRDeck</td>\n",
       "      <td>0.0</td>\n",
       "    </tr>\n",
       "    <tr>\n",
       "      <th>43463</th>\n",
       "      <td>False</td>\n",
       "      <td>VRDeck</td>\n",
       "      <td>3235.0</td>\n",
       "    </tr>\n",
       "    <tr>\n",
       "      <th>43464</th>\n",
       "      <td>True</td>\n",
       "      <td>VRDeck</td>\n",
       "      <td>12.0</td>\n",
       "    </tr>\n",
       "  </tbody>\n",
       "</table>\n",
       "<p>43465 rows × 3 columns</p>\n",
       "</div>"
      ],
      "text/plain": [
       "       Transported     variable   value\n",
       "0            False  RoomService     0.0\n",
       "1             True  RoomService   109.0\n",
       "2            False  RoomService    43.0\n",
       "3            False  RoomService     0.0\n",
       "4             True  RoomService   303.0\n",
       "...            ...          ...     ...\n",
       "43460        False       VRDeck    74.0\n",
       "43461        False       VRDeck     0.0\n",
       "43462         True       VRDeck     0.0\n",
       "43463        False       VRDeck  3235.0\n",
       "43464         True       VRDeck    12.0\n",
       "\n",
       "[43465 rows x 3 columns]"
      ]
     },
     "execution_count": 720,
     "metadata": {},
     "output_type": "execute_result"
    }
   ],
   "source": [
    "transported_spent"
   ]
  },
  {
   "cell_type": "code",
   "execution_count": 721,
   "id": "a3952e69",
   "metadata": {},
   "outputs": [
    {
     "data": {
      "text/plain": [
       "<seaborn.axisgrid.FacetGrid at 0x7ffaefac9a00>"
      ]
     },
     "execution_count": 721,
     "metadata": {},
     "output_type": "execute_result"
    },
    {
     "data": {
      "text/plain": [
       "<Figure size 720x1080 with 0 Axes>"
      ]
     },
     "metadata": {},
     "output_type": "display_data"
    },
    {
     "data": {
      "image/png": "[encoded data removed]",
      "text/plain": [
       "<Figure size 1800x360 with 5 Axes>"
      ]
     },
     "metadata": {
      "needs_background": "light"
     },
     "output_type": "display_data"
    }
   ],
   "source": [
    "# distribution of money spent on each court/service\n",
    "plt.figure(figsize=(10,15))\n",
    "sns.catplot(data = transported_spent, y = \"value\"  , x=\"Transported\", col=\"variable\")\n"
   ]
  },
  {
   "cell_type": "markdown",
   "id": "87940c0d",
   "metadata": {},
   "source": [
    "* im Spa und im VRDeck sind die leute eher gestorben wenn sie im durchschnitt mehr Geld ausgegeben haben\n",
    "    * if spa_money > 3k, dann 1 für tod\n",
    "    * if vrdeck_money > 3k, dann 1 für tod"
   ]
  },
  {
   "cell_type": "code",
   "execution_count": 848,
   "id": "013cfa2d",
   "metadata": {},
   "outputs": [],
   "source": [
    "# if more \n",
    "train[\"service_kill\"] = train.Spa.apply(lambda x: 1 if x>3000 else 0)\n",
    "train[\"service_kill\"] |= train.VRDeck.apply(lambda x: 1 if x>3000 else 0)\n",
    "test[\"service_kill\"] = test.Spa.apply(lambda x: 1 if x>3000 else 0)\n",
    "test[\"service_kill\"] |= test.VRDeck.apply(lambda x: 1 if x>3000 else 0)"
   ]
  },
  {
   "cell_type": "markdown",
   "id": "e7cc0974",
   "metadata": {},
   "source": [
    "### How many ppl died/survived on each Service/Court "
   ]
  },
  {
   "cell_type": "code",
   "execution_count": 724,
   "id": "182677fd",
   "metadata": {},
   "outputs": [
    {
     "data": {
      "text/html": [
       "<div>\n",
       "<style scoped>\n",
       "    .dataframe tbody tr th:only-of-type {\n",
       "        vertical-align: middle;\n",
       "    }\n",
       "\n",
       "    .dataframe tbody tr th {\n",
       "        vertical-align: top;\n",
       "    }\n",
       "\n",
       "    .dataframe thead th {\n",
       "        text-align: right;\n",
       "    }\n",
       "</style>\n",
       "<table border=\"1\" class=\"dataframe\">\n",
       "  <thead>\n",
       "    <tr style=\"text-align: right;\">\n",
       "      <th></th>\n",
       "      <th>Transported</th>\n",
       "      <th>variable</th>\n",
       "      <th>value</th>\n",
       "    </tr>\n",
       "  </thead>\n",
       "  <tbody>\n",
       "    <tr>\n",
       "      <th>1</th>\n",
       "      <td>True</td>\n",
       "      <td>RoomService</td>\n",
       "      <td>109.0</td>\n",
       "    </tr>\n",
       "    <tr>\n",
       "      <th>2</th>\n",
       "      <td>False</td>\n",
       "      <td>RoomService</td>\n",
       "      <td>43.0</td>\n",
       "    </tr>\n",
       "    <tr>\n",
       "      <th>4</th>\n",
       "      <td>True</td>\n",
       "      <td>RoomService</td>\n",
       "      <td>303.0</td>\n",
       "    </tr>\n",
       "    <tr>\n",
       "      <th>6</th>\n",
       "      <td>True</td>\n",
       "      <td>RoomService</td>\n",
       "      <td>42.0</td>\n",
       "    </tr>\n",
       "    <tr>\n",
       "      <th>11</th>\n",
       "      <td>True</td>\n",
       "      <td>RoomService</td>\n",
       "      <td>39.0</td>\n",
       "    </tr>\n",
       "    <tr>\n",
       "      <th>...</th>\n",
       "      <td>...</td>\n",
       "      <td>...</td>\n",
       "      <td>...</td>\n",
       "    </tr>\n",
       "    <tr>\n",
       "      <th>43458</th>\n",
       "      <td>False</td>\n",
       "      <td>VRDeck</td>\n",
       "      <td>34.0</td>\n",
       "    </tr>\n",
       "    <tr>\n",
       "      <th>43459</th>\n",
       "      <td>True</td>\n",
       "      <td>VRDeck</td>\n",
       "      <td>330.0</td>\n",
       "    </tr>\n",
       "    <tr>\n",
       "      <th>43460</th>\n",
       "      <td>False</td>\n",
       "      <td>VRDeck</td>\n",
       "      <td>74.0</td>\n",
       "    </tr>\n",
       "    <tr>\n",
       "      <th>43463</th>\n",
       "      <td>False</td>\n",
       "      <td>VRDeck</td>\n",
       "      <td>3235.0</td>\n",
       "    </tr>\n",
       "    <tr>\n",
       "      <th>43464</th>\n",
       "      <td>True</td>\n",
       "      <td>VRDeck</td>\n",
       "      <td>12.0</td>\n",
       "    </tr>\n",
       "  </tbody>\n",
       "</table>\n",
       "<p>15083 rows × 3 columns</p>\n",
       "</div>"
      ],
      "text/plain": [
       "       Transported     variable   value\n",
       "1             True  RoomService   109.0\n",
       "2            False  RoomService    43.0\n",
       "4             True  RoomService   303.0\n",
       "6             True  RoomService    42.0\n",
       "11            True  RoomService    39.0\n",
       "...            ...          ...     ...\n",
       "43458        False       VRDeck    34.0\n",
       "43459         True       VRDeck   330.0\n",
       "43460        False       VRDeck    74.0\n",
       "43463        False       VRDeck  3235.0\n",
       "43464         True       VRDeck    12.0\n",
       "\n",
       "[15083 rows x 3 columns]"
      ]
     },
     "execution_count": 724,
     "metadata": {},
     "output_type": "execute_result"
    }
   ],
   "source": [
    "# How many ppl died/survived on each Service/Court\n",
    "transported_real_spent = transported_spent[transported_spent[\"value\"]>0]\n",
    "transported_real_spent"
   ]
  },
  {
   "cell_type": "code",
   "execution_count": 725,
   "id": "5ab77db3",
   "metadata": {},
   "outputs": [
    {
     "data": {
      "text/html": [
       "<div>\n",
       "<style scoped>\n",
       "    .dataframe tbody tr th:only-of-type {\n",
       "        vertical-align: middle;\n",
       "    }\n",
       "\n",
       "    .dataframe tbody tr th {\n",
       "        vertical-align: top;\n",
       "    }\n",
       "\n",
       "    .dataframe thead th {\n",
       "        text-align: right;\n",
       "    }\n",
       "</style>\n",
       "<table border=\"1\" class=\"dataframe\">\n",
       "  <thead>\n",
       "    <tr style=\"text-align: right;\">\n",
       "      <th></th>\n",
       "      <th>Transported</th>\n",
       "      <th>variable</th>\n",
       "      <th>0</th>\n",
       "    </tr>\n",
       "  </thead>\n",
       "  <tbody>\n",
       "    <tr>\n",
       "      <th>0</th>\n",
       "      <td>False</td>\n",
       "      <td>FoodCourt</td>\n",
       "      <td>1999</td>\n",
       "    </tr>\n",
       "    <tr>\n",
       "      <th>1</th>\n",
       "      <td>False</td>\n",
       "      <td>RoomService</td>\n",
       "      <td>2172</td>\n",
       "    </tr>\n",
       "    <tr>\n",
       "      <th>2</th>\n",
       "      <td>False</td>\n",
       "      <td>ShoppingMall</td>\n",
       "      <td>1979</td>\n",
       "    </tr>\n",
       "    <tr>\n",
       "      <th>3</th>\n",
       "      <td>False</td>\n",
       "      <td>Spa</td>\n",
       "      <td>2302</td>\n",
       "    </tr>\n",
       "    <tr>\n",
       "      <th>4</th>\n",
       "      <td>False</td>\n",
       "      <td>VRDeck</td>\n",
       "      <td>2181</td>\n",
       "    </tr>\n",
       "    <tr>\n",
       "      <th>5</th>\n",
       "      <td>True</td>\n",
       "      <td>FoodCourt</td>\n",
       "      <td>1055</td>\n",
       "    </tr>\n",
       "    <tr>\n",
       "      <th>6</th>\n",
       "      <td>True</td>\n",
       "      <td>RoomService</td>\n",
       "      <td>763</td>\n",
       "    </tr>\n",
       "    <tr>\n",
       "      <th>7</th>\n",
       "      <td>True</td>\n",
       "      <td>ShoppingMall</td>\n",
       "      <td>919</td>\n",
       "    </tr>\n",
       "    <tr>\n",
       "      <th>8</th>\n",
       "      <td>True</td>\n",
       "      <td>Spa</td>\n",
       "      <td>884</td>\n",
       "    </tr>\n",
       "    <tr>\n",
       "      <th>9</th>\n",
       "      <td>True</td>\n",
       "      <td>VRDeck</td>\n",
       "      <td>829</td>\n",
       "    </tr>\n",
       "  </tbody>\n",
       "</table>\n",
       "</div>"
      ],
      "text/plain": [
       "   Transported      variable     0\n",
       "0        False     FoodCourt  1999\n",
       "1        False   RoomService  2172\n",
       "2        False  ShoppingMall  1979\n",
       "3        False           Spa  2302\n",
       "4        False        VRDeck  2181\n",
       "5         True     FoodCourt  1055\n",
       "6         True   RoomService   763\n",
       "7         True  ShoppingMall   919\n",
       "8         True           Spa   884\n",
       "9         True        VRDeck   829"
      ]
     },
     "execution_count": 725,
     "metadata": {},
     "output_type": "execute_result"
    }
   ],
   "source": [
    "# How many ppl died/survived on each Service/Court\n",
    "money_service_count = transported_real_spent.groupby([\"Transported\", \"variable\"]).size().reset_index()\n",
    "money_service_count\n"
   ]
  },
  {
   "cell_type": "code",
   "execution_count": 726,
   "id": "cda6934e",
   "metadata": {},
   "outputs": [
    {
     "data": {
      "text/plain": [
       "<AxesSubplot:xlabel='variable', ylabel='0'>"
      ]
     },
     "execution_count": 726,
     "metadata": {},
     "output_type": "execute_result"
    },
    {
     "data": {
      "image/png": "[encoded data removed]",
      "text/plain": [
       "<Figure size 432x288 with 1 Axes>"
      ]
     },
     "metadata": {
      "needs_background": "light"
     },
     "output_type": "display_data"
    }
   ],
   "source": [
    "\n",
    "sns.barplot(data=money_service_count, x=\"variable\", y = 0, hue=\"Transported\" )"
   ]
  },
  {
   "cell_type": "markdown",
   "id": "f6c66760",
   "metadata": {},
   "source": [
    "* wirkt sehr ausgeglichen, demnach nichts aussagend\n",
    "* wie können wir das besser differenzieren, evtl homeplanet + deck + money_spent_service\n",
    "* vllt klasse einführen: klasse 1, 2 und 3 für Erde, Europa und Mars"
   ]
  },
  {
   "cell_type": "code",
   "execution_count": 727,
   "id": "f3c565c9",
   "metadata": {},
   "outputs": [],
   "source": [
    "train[\"cabin_side_deck\"] = train[\"cabin_side\"] + \"_\" + train['cabin_deck']\n",
    "test[\"cabin_side_deck\"] = test[\"cabin_side\"] + \"_\" + test['cabin_deck']"
   ]
  },
  {
   "cell_type": "code",
   "execution_count": 815,
   "id": "54228901",
   "metadata": {},
   "outputs": [],
   "source": [
    "train_1 = train.copy()\n",
    "test_1 = test.copy()"
   ]
  },
  {
   "cell_type": "code",
   "execution_count": 816,
   "id": "6cb913a4",
   "metadata": {},
   "outputs": [],
   "source": [
    "train_1[\"train_test\"] = 1\n",
    "test_1[\"train_test\"] = 0\n",
    "data = train_1.append(test_1)"
   ]
  },
  {
   "cell_type": "code",
   "execution_count": 817,
   "id": "cc6d4ca9",
   "metadata": {},
   "outputs": [
    {
     "data": {
      "text/plain": [
       "Index(['PassengerId', 'HomePlanet', 'CryoSleep', 'Cabin', 'Destination', 'Age',\n",
       "       'VIP', 'RoomService', 'FoodCourt', 'ShoppingMall', 'Spa', 'VRDeck',\n",
       "       'Name', 'Transported', 'cabin_side', 'cabin_deck', 'ticket_grp',\n",
       "       'surname', 'travel_grp', 'family', 'spent_total', 'RoomService_rate',\n",
       "       'FoodCourt_rate', 'ShoppingMall_rate', 'Spa_rate', 'VRDeck_rate',\n",
       "       'age_to_money', 'shopping_rate', 'age_bin', 'cabin_num', 'home_num',\n",
       "       'home_cabin_rate', 'planet_deck', 'service_kill_spa',\n",
       "       'service_kill_vrdeck', 'cabin_side_deck'],\n",
       "      dtype='object')"
      ]
     },
     "execution_count": 817,
     "metadata": {},
     "output_type": "execute_result"
    }
   ],
   "source": [
    "train.columns"
   ]
  },
  {
   "cell_type": "code",
   "execution_count": 818,
   "id": "0a0f46e7",
   "metadata": {},
   "outputs": [],
   "source": [
    "from sklearn.preprocessing import StandardScaler, MinMaxScaler\n",
    "# we can add gridsearch for Standardscaler, MinMaxScaler or Log on numerical features\n",
    "\n",
    "scale = StandardScaler()\n",
    "data[[\"spent_total\" ,\"shopping_rate\",'RoomService_rate', 'FoodCourt_rate', 'ShoppingMall_rate',\n",
    "    'Spa_rate', 'VRDeck_rate',\"age_to_money\", \"service_kill_vrdeck\",\n",
    "      \"service_kill_spa\",'cabin_num', 'home_num']] = scale.fit_transform(data[[\n",
    "    \"spent_total\" ,\"shopping_rate\",'RoomService_rate', 'FoodCourt_rate', 'ShoppingMall_rate',\n",
    "    'Spa_rate', 'VRDeck_rate',\"age_to_money\", \"service_kill_vrdeck\", \"service_kill_spa\",'cabin_num', 'home_num']])\n",
    "\n"
   ]
  },
  {
   "cell_type": "code",
   "execution_count": 793,
   "id": "0beccc1a",
   "metadata": {},
   "outputs": [],
   "source": [
    "cat_columns = ['CryoSleep',  \"cabin_side_deck\", \"planet_deck\",\n",
    "               \"Destination\", \"travel_grp\"]\n",
    "\n",
    "# , \"planet_deck\" , \"VIP\", , \"age_bin\", 'cabin_side', \"cabin_deck\",\n",
    "\n",
    "feature_columns = [ 'spent_total','CryoSleep', 'Transported',\"shopping_rate\",\n",
    "                   'RoomService_rate', 'FoodCourt_rate', \"travel_grp\", \"age_to_money\",\n",
    "                 'ShoppingMall_rate', 'Spa_rate', 'VRDeck_rate', \"Destination\", \"planet_deck\",\"cabin_side_deck\",\n",
    "                  \"train_test\",  \"service_kill_vrdeck\", \"service_kill_spa\", 'cabin_num', 'home_num' ] \n",
    "# \"VIP\", \"HomePlanet\", \"planet_deck\",\"age_bin\",\n",
    "\n",
    "data_df = data[feature_columns]"
   ]
  },
  {
   "cell_type": "code",
   "execution_count": 794,
   "id": "1fe64464",
   "metadata": {},
   "outputs": [],
   "source": [
    "train_df = data_df[data_df[\"train_test\"]==1]\n",
    "\n",
    "#train_df.drop([\"train_test\", \"Transported\"], axis=1, inplace=True)"
   ]
  },
  {
   "cell_type": "code",
   "execution_count": 795,
   "id": "842719e5",
   "metadata": {},
   "outputs": [],
   "source": [
    "train_ohe = pd.get_dummies(data=train_df, columns=cat_columns, drop_first=True)\n"
   ]
  },
  {
   "cell_type": "code",
   "execution_count": 796,
   "id": "7375c2a7",
   "metadata": {},
   "outputs": [],
   "source": [
    "test_df = data_df[data_df[\"train_test\"]==0].copy()\n",
    "test_df.drop([\"train_test\", \"Transported\"], axis=1, inplace=True)"
   ]
  },
  {
   "cell_type": "code",
   "execution_count": 797,
   "id": "46855991",
   "metadata": {},
   "outputs": [],
   "source": [
    "test_ohe = pd.get_dummies(data=test_df, columns=cat_columns, drop_first=True)\n"
   ]
  },
  {
   "cell_type": "code",
   "execution_count": 798,
   "id": "c44af2b3",
   "metadata": {},
   "outputs": [],
   "source": [
    "X = train_ohe.drop(['Transported', \"train_test\"], axis=1)\n",
    "y = train_ohe.Transported.values"
   ]
  },
  {
   "cell_type": "code",
   "execution_count": 799,
   "id": "e0784f9e",
   "metadata": {},
   "outputs": [],
   "source": [
    "y = y.astype(\"int\")"
   ]
  },
  {
   "cell_type": "code",
   "execution_count": 800,
   "id": "bc474ac8",
   "metadata": {},
   "outputs": [],
   "source": [
    "for i in X.columns:\n",
    "    if i not in test_ohe.columns:\n",
    "        X.drop(i, axis=1, inplace=True)"
   ]
  },
  {
   "cell_type": "markdown",
   "id": "a7675fa5",
   "metadata": {},
   "source": [
    "# Prediction"
   ]
  },
  {
   "cell_type": "code",
   "execution_count": 802,
   "id": "ba9095e7",
   "metadata": {},
   "outputs": [],
   "source": [
    "from sklearn.model_selection import train_test_split, RandomizedSearchCV, GridSearchCV\n",
    "\n",
    "from sklearn.tree import DecisionTreeClassifier\n",
    "from sklearn.ensemble import AdaBoostClassifier\n",
    "\n",
    "from sklearn.metrics import accuracy_score\n",
    "\n",
    "import matplotlib.pyplot as plt\n",
    "\n",
    "import xgboost as xgb"
   ]
  },
  {
   "cell_type": "code",
   "execution_count": 803,
   "id": "0c213cbc",
   "metadata": {},
   "outputs": [],
   "source": [
    "X_train, X_test, y_train, y_test = train_test_split(X, y, test_size=0.2, random_state=42)"
   ]
  },
  {
   "cell_type": "code",
   "execution_count": 761,
   "id": "05443cd9",
   "metadata": {},
   "outputs": [],
   "source": [
    "# import packages for hyperparameters tuning\n",
    "from hyperopt import STATUS_OK, Trials, fmin, hp, tpe"
   ]
  },
  {
   "cell_type": "markdown",
   "id": "fbae1609",
   "metadata": {},
   "source": [
    "space={'max_depth': hp.quniform(\"max_depth\", 3, 18, 1),\n",
    "        'gamma': hp.uniform ('gamma', 1,9),\n",
    "        'reg_alpha' : hp.quniform('reg_alpha', 40,180,1),\n",
    "        'reg_lambda' : hp.uniform('reg_lambda', 0,1),\n",
    "        'colsample_bytree' : hp.uniform('colsample_bytree', 0.5,1),\n",
    "        'min_child_weight' : hp.quniform('min_child_weight', 0, 10, 1),\n",
    "        'n_estimators': 180,\n",
    "        'seed': 0\n",
    "    }"
   ]
  },
  {
   "cell_type": "markdown",
   "id": "79c3e6ec",
   "metadata": {},
   "source": [
    "trials = Trials()\n",
    "\n",
    "best_hyperparams = fmin(fn = objective,\n",
    "                        space = space,\n",
    "                        algo = tpe.suggest,\n",
    "                        max_evals = 100,\n",
    "                        trials = trials)\n",
    "                       "
   ]
  },
  {
   "cell_type": "markdown",
   "id": "fad61c1d",
   "metadata": {},
   "source": [
    "print(\"The best hyperparameters are : \",\"\\n\")\n",
    "print(best_hyperparams)"
   ]
  },
  {
   "cell_type": "code",
   "execution_count": 804,
   "id": "3afb0a92",
   "metadata": {},
   "outputs": [],
   "source": [
    "X.drop(drop_list, axis=1, inplace=True)\n",
    "test_ohe.drop(drop_list, axis=1, inplace=True)"
   ]
  },
  {
   "cell_type": "code",
   "execution_count": 823,
   "id": "aa3273ff",
   "metadata": {},
   "outputs": [
    {
     "data": {
      "text/plain": [
       "XGBClassifier(base_score=0.5, booster='gbtree', colsample_bylevel=1,\n",
       "              colsample_bynode=1, colsample_bytree=1, enable_categorical=False,\n",
       "              gamma=2, gpu_id=-1, importance_type=None,\n",
       "              interaction_constraints='', learning_rate=0.08, max_delta_step=1,\n",
       "              max_depth=6, min_child_weight=0, missing=nan,\n",
       "              monotone_constraints='()', n_estimators=150, n_jobs=8,\n",
       "              num_parallel_tree=1, objective='binary:hinge', predictor='auto',\n",
       "              random_state=0, reg_alpha=0, reg_lambda=1, scale_pos_weight=None,\n",
       "              subsample=0.8, tree_method='exact', use_label_encoder=False,\n",
       "              validate_parameters=1, verbosity=None)"
      ]
     },
     "execution_count": 823,
     "metadata": {},
     "output_type": "execute_result"
    }
   ],
   "source": [
    "# Param grid for random search\n",
    "params = {\n",
    "        #\"booster\" : [\"booster\", \"dart\"],\n",
    "        'n_estimators' : [  100,200,300,500,800,1500,3000],\n",
    "        'min_child_weight': [0, 0.1, 1, 2, 5, 10,100,1000],\n",
    "        'gamma': [ 0.1,  1, 2, 5, 10,100],\n",
    "        'subsample': [0.5,0.6, 0.8, 1.0],\n",
    "        'learning_rate': [0.01, 0.03,0.05, 0.07,0.1,0.2],\n",
    "        'max_depth': [2,3,4,5,6,7,8,9,10,11,12],\n",
    "        \"max_delta_step\" : [0,1,5,10],\n",
    "        \"objective\": [\"binary:hinge\"]\n",
    "        }\n",
    "    \n",
    "# Instantiate and test the model\n",
    "xgb_clf = xgb.XGBClassifier(use_label_encoder=False ,gamma=2, learning_rate=0.08, objective=\"binary:hinge\",\n",
    "                            max_delta_step=1,\n",
    "                            max_depth=6,min_child_weight=0, n_estimators=150, subsample=0.8)\n",
    "#rs_model = RandomizedSearchCV(xgb_clf, param_distributions=params, \n",
    "#                              n_iter=50, scoring='accuracy', cv=5, verbose=3, random_state=42)\n",
    "#rs_model.fit(X, y)\n",
    "xgb_clf.fit(X, y)\n",
    "#y_pred = rs_model.predict(X_test)"
   ]
  },
  {
   "cell_type": "code",
   "execution_count": 778,
   "id": "de3ce988",
   "metadata": {},
   "outputs": [
    {
     "data": {
      "text/plain": [
       "{'subsample': 0.8,\n",
       " 'objective': 'binary:hinge',\n",
       " 'n_estimators': 100,\n",
       " 'min_child_weight': 0,\n",
       " 'max_depth': 6,\n",
       " 'max_delta_step': 1,\n",
       " 'learning_rate': 0.1,\n",
       " 'gamma': 2}"
      ]
     },
     "execution_count": 778,
     "metadata": {},
     "output_type": "execute_result"
    }
   ],
   "source": [
    "rs_model.best_params_"
   ]
  },
  {
   "cell_type": "code",
   "execution_count": 824,
   "id": "faea4368",
   "metadata": {},
   "outputs": [
    {
     "name": "stdout",
     "output_type": "stream",
     "text": [
      "0.8428620729322444\n"
     ]
    }
   ],
   "source": [
    "# XGB\n",
    "# TRAIN-TEST_SPLIT\n",
    "y_hat = xgb_clf.predict(X)\n",
    "#y_hat = rs_model.predict(X)\n",
    "print(accuracy_score(y, y_hat))\n"
   ]
  },
  {
   "cell_type": "code",
   "execution_count": 825,
   "id": "e28f8fbc",
   "metadata": {},
   "outputs": [],
   "source": [
    "# XGB real Test Data\n",
    "kaggle_pred = rs_model.predict(test_ohe).astype(bool)\n",
    "\n",
    "#kaggle_pred = le.inverse_transform(kaggle_pred_raw)"
   ]
  },
  {
   "cell_type": "code",
   "execution_count": 826,
   "id": "081a35a3",
   "metadata": {},
   "outputs": [
    {
     "data": {
      "text/plain": [
       "array([ True, False,  True, ...,  True,  True,  True])"
      ]
     },
     "execution_count": 826,
     "metadata": {},
     "output_type": "execute_result"
    }
   ],
   "source": [
    "kaggle_pred"
   ]
  },
  {
   "cell_type": "code",
   "execution_count": 827,
   "id": "d5b336f5",
   "metadata": {},
   "outputs": [
    {
     "data": {
      "text/plain": [
       "4277"
      ]
     },
     "execution_count": 827,
     "metadata": {},
     "output_type": "execute_result"
    }
   ],
   "source": [
    "len(kaggle_pred)"
   ]
  },
  {
   "cell_type": "code",
   "execution_count": 828,
   "id": "545fa241",
   "metadata": {},
   "outputs": [],
   "source": [
    "di = {\n",
    "    \"PassengerId\": test[\"PassengerId\"],\n",
    "    \"Transported\" : kaggle_pred\n",
    "}\n",
    "\n",
    "submission = pd.DataFrame(data=di)\n",
    "submission[\"Transported\"] = submission[\"Transported\"]\n",
    "\n",
    "submission.to_csv(\"submission.csv\", index=False)\n",
    "df_sub = pd.read_csv(\"submission.csv\")"
   ]
  },
  {
   "cell_type": "code",
   "execution_count": 829,
   "id": "d674c91f",
   "metadata": {},
   "outputs": [
    {
     "data": {
      "text/html": [
       "<div>\n",
       "<style scoped>\n",
       "    .dataframe tbody tr th:only-of-type {\n",
       "        vertical-align: middle;\n",
       "    }\n",
       "\n",
       "    .dataframe tbody tr th {\n",
       "        vertical-align: top;\n",
       "    }\n",
       "\n",
       "    .dataframe thead th {\n",
       "        text-align: right;\n",
       "    }\n",
       "</style>\n",
       "<table border=\"1\" class=\"dataframe\">\n",
       "  <thead>\n",
       "    <tr style=\"text-align: right;\">\n",
       "      <th></th>\n",
       "      <th>PassengerId</th>\n",
       "      <th>Transported</th>\n",
       "    </tr>\n",
       "  </thead>\n",
       "  <tbody>\n",
       "    <tr>\n",
       "      <th>0</th>\n",
       "      <td>0013_01</td>\n",
       "      <td>True</td>\n",
       "    </tr>\n",
       "    <tr>\n",
       "      <th>1</th>\n",
       "      <td>0018_01</td>\n",
       "      <td>False</td>\n",
       "    </tr>\n",
       "    <tr>\n",
       "      <th>2</th>\n",
       "      <td>0019_01</td>\n",
       "      <td>True</td>\n",
       "    </tr>\n",
       "    <tr>\n",
       "      <th>3</th>\n",
       "      <td>0021_01</td>\n",
       "      <td>True</td>\n",
       "    </tr>\n",
       "    <tr>\n",
       "      <th>4</th>\n",
       "      <td>0023_01</td>\n",
       "      <td>True</td>\n",
       "    </tr>\n",
       "    <tr>\n",
       "      <th>...</th>\n",
       "      <td>...</td>\n",
       "      <td>...</td>\n",
       "    </tr>\n",
       "    <tr>\n",
       "      <th>4272</th>\n",
       "      <td>9266_02</td>\n",
       "      <td>True</td>\n",
       "    </tr>\n",
       "    <tr>\n",
       "      <th>4273</th>\n",
       "      <td>9269_01</td>\n",
       "      <td>False</td>\n",
       "    </tr>\n",
       "    <tr>\n",
       "      <th>4274</th>\n",
       "      <td>9271_01</td>\n",
       "      <td>True</td>\n",
       "    </tr>\n",
       "    <tr>\n",
       "      <th>4275</th>\n",
       "      <td>9273_01</td>\n",
       "      <td>True</td>\n",
       "    </tr>\n",
       "    <tr>\n",
       "      <th>4276</th>\n",
       "      <td>9277_01</td>\n",
       "      <td>True</td>\n",
       "    </tr>\n",
       "  </tbody>\n",
       "</table>\n",
       "<p>4277 rows × 2 columns</p>\n",
       "</div>"
      ],
      "text/plain": [
       "     PassengerId  Transported\n",
       "0        0013_01         True\n",
       "1        0018_01        False\n",
       "2        0019_01         True\n",
       "3        0021_01         True\n",
       "4        0023_01         True\n",
       "...          ...          ...\n",
       "4272     9266_02         True\n",
       "4273     9269_01        False\n",
       "4274     9271_01         True\n",
       "4275     9273_01         True\n",
       "4276     9277_01         True\n",
       "\n",
       "[4277 rows x 2 columns]"
      ]
     },
     "execution_count": 829,
     "metadata": {},
     "output_type": "execute_result"
    }
   ],
   "source": [
    "df_sub"
   ]
  },
  {
   "cell_type": "markdown",
   "id": "c53d6b7d",
   "metadata": {},
   "source": [
    "# Documentation Results\n",
    "\n",
    "1. mit total spent von 74,5 auf 74,6981\n",
    "2. mit travel grp: 74,35%\n",
    "3. total_spent, homeplanet, cryosleep 74,0\n",
    "4. ['HomePlanet', 'CryoSleep', \"Destination\", \"age_bin\", \"cabin_side\"]\n",
    "  * result: 0.7469810235767682\n",
    "\n",
    "___\n",
    "\n",
    "\n",
    "5.  Nan's all dropped\n",
    "* cat_columns = ['CryoSleep',\"Destination\", \"HomePlanet\",'cabin_side', \"cabin_deck\"]\n",
    "\n",
    "* zu 7 feature_columns = [ 'spent_total','CryoSleep', 'Transported',\"shopping_rate\",\"Destination\",\n",
    "                   \"HomePlanet\",'cabin_side', \"cabin_deck\",'RoomService_rate', 'FoodCourt_rate',\n",
    "                 'ShoppingMall_rate', 'Spa_rate', 'VRDeck_rate'] \n",
    "* result: 81.4%"
   ]
  },
  {
   "cell_type": "markdown",
   "id": "c2085bf4",
   "metadata": {},
   "source": [
    "![purple-divider](https://user-images.githubusercontent.com/7065401/52071927-c1cd7100-2562-11e9-908a-dde91ba14e59.png)"
   ]
  },
  {
   "cell_type": "code",
   "execution_count": 830,
   "id": "34e8cbc7",
   "metadata": {},
   "outputs": [
    {
     "name": "stdout",
     "output_type": "stream",
     "text": [
      "[0.03492687 0.03435522 0.01041419 0.04269764 0.06293914 0.00931641\n",
      " 0.00945032 0.01141328 0.01182885 0.01713163 0.02257055 0.05607268\n",
      " 0.02678771 0.01372514 0.00645094 0.00897648 0.02181263 0.0330008\n",
      " 0.00989537 0.02211561 0.00601681 0.01059495 0.02218876 0.04803372\n",
      " 0.01276182 0.02846674 0.01410778 0.01225793 0.01019718 0.05680967\n",
      " 0.00797658 0.12539113 0.12593703 0.0082945  0.02548658 0.01959736]\n"
     ]
    }
   ],
   "source": [
    "xgb_clf.fit(X, y)\n",
    "importances = xgb_clf.feature_importances_\n",
    "\n",
    "print(importances)"
   ]
  },
  {
   "cell_type": "code",
   "execution_count": 831,
   "id": "5f442ac7",
   "metadata": {},
   "outputs": [
    {
     "data": {
      "image/png": "[encoded data removed]",
      "text/plain": [
       "<Figure size 1080x576 with 1 Axes>"
      ]
     },
     "metadata": {
      "needs_background": "light"
     },
     "output_type": "display_data"
    }
   ],
   "source": [
    "importances = xgb_clf.feature_importances_\n",
    "feature_importances = pd.Series(importances, index=test_ohe.columns)\n",
    "\n",
    "fig, ax = plt.subplots(figsize=(15, 8))\n",
    "feature_importances.plot.bar()\n",
    "ax.set_title(\"Importance of the feature\")\n",
    "ax.set_ylabel(\"Importance in %\")\n",
    "fig.tight_layout()\n",
    "plt.show() "
   ]
  },
  {
   "cell_type": "code",
   "execution_count": 772,
   "id": "28f49220",
   "metadata": {},
   "outputs": [
    {
     "data": {
      "text/plain": [
       "Index(['spent_total', 'Transported', 'shopping_rate', 'RoomService_rate',\n",
       "       'FoodCourt_rate', 'age_to_money', 'ShoppingMall_rate', 'Spa_rate',\n",
       "       'VRDeck_rate', 'train_test', 'service_kill_vrdeck', 'service_kill_spa',\n",
       "       'cabin_num', 'home_num', 'CryoSleep_True', 'cabin_side_deck_P_B',\n",
       "       'cabin_side_deck_P_C', 'cabin_side_deck_P_D', 'cabin_side_deck_P_E',\n",
       "       'cabin_side_deck_P_F', 'cabin_side_deck_P_G', 'cabin_side_deck_P_T',\n",
       "       'cabin_side_deck_S_A', 'cabin_side_deck_S_B', 'cabin_side_deck_S_C',\n",
       "       'cabin_side_deck_S_D', 'cabin_side_deck_S_E', 'cabin_side_deck_S_F',\n",
       "       'cabin_side_deck_S_G', 'cabin_side_deck_S_T', 'planet_deck_A_Europa',\n",
       "       'planet_deck_B_Earth', 'planet_deck_B_Europa', 'planet_deck_C_Earth',\n",
       "       'planet_deck_C_Europa', 'planet_deck_D_Earth', 'planet_deck_D_Europa',\n",
       "       'planet_deck_D_Mars', 'planet_deck_E_Earth', 'planet_deck_E_Europa',\n",
       "       'planet_deck_E_Mars', 'planet_deck_F_Earth', 'planet_deck_F_Mars',\n",
       "       'planet_deck_G_Earth', 'planet_deck_G_Europa', 'planet_deck_G_Mars',\n",
       "       'planet_deck_T_Earth', 'planet_deck_T_Europa',\n",
       "       'Destination_PSO J318.5-22', 'Destination_TRAPPIST-1e', 'travel_grp_1'],\n",
       "      dtype='object')"
      ]
     },
     "execution_count": 772,
     "metadata": {},
     "output_type": "execute_result"
    }
   ],
   "source": [
    "train_ohe.columns"
   ]
  },
  {
   "cell_type": "code",
   "execution_count": 814,
   "id": "c86596ea",
   "metadata": {},
   "outputs": [],
   "source": [
    "drop_list = [\"ShoppingMall_rate\", \"cabin_side_deck_P_T\", \"cabin_side_deck_S_T\",\n",
    "            \"planet_deck_B_Earth\", \"planet_deck_C_Earth\", \"planet_deck_D_Earth\",\n",
    "            'planet_deck_G_Mars','planet_deck_D_Europa','planet_deck_E_Europa',\n",
    "            'planet_deck_G_Mars', 'planet_deck_T_Europa', 'cabin_side_deck_S_A','Destination_PSO J318.5-22',\n",
    "            'cabin_side_deck_P_C', 'cabin_side_deck_P_E', 'cabin_side_deck_S_F', 'planet_deck_B_Europa',\n",
    "            'planet_deck_D_Mars', 'planet_deck_G_Europa']\n",
    "\n",
    "\n",
    "\n"
   ]
  },
  {
   "cell_type": "markdown",
   "id": "1d5b6501",
   "metadata": {},
   "source": [
    "# Best Placement\n",
    "\n",
    "Score 80,640%\n",
    "\n",
    "FEatures:\n",
    "\n",
    "\n",
    "scale = StandardScaler()\n",
    "data[[\"spent_total\" ,\"shopping_rate\",'RoomService_rate', 'FoodCourt_rate', 'ShoppingMall_rate',\n",
    "    'Spa_rate', 'VRDeck_rate',\"age_to_money\", \"service_kill_vrdeck\",\n",
    "      \"service_kill_spa\",'cabin_num', 'home_num']] = scale.fit_transform(data[[\n",
    "    \"spent_total\" ,\"shopping_rate\",'RoomService_rate', 'FoodCourt_rate', 'ShoppingMall_rate',\n",
    "    'Spa_rate', 'VRDeck_rate',\"age_to_money\", \"service_kill_vrdeck\", \"service_kill_spa\",'cabin_num', 'home_num']])\n",
    "\n",
    "___\n",
    "\n",
    "cat_columns = ['CryoSleep',  \"cabin_side_deck\", \"planet_deck\",\n",
    "               \"Destination\", \"travel_grp\"]\n",
    "\n",
    "* \"planet_deck\" , \"VIP\", , \"age_bin\", 'cabin_side', \"cabin_deck\",\n",
    "\n",
    "feature_columns = [ 'spent_total','CryoSleep', 'Transported',\"shopping_rate\",\n",
    "                   'RoomService_rate', 'FoodCourt_rate', \"travel_grp\", \"age_to_money\",\n",
    "                 'ShoppingMall_rate', 'Spa_rate', 'VRDeck_rate', \"Destination\", \"planet_deck\",\"cabin_side_deck\",\n",
    "                  \"train_test\",  \"service_kill_vrdeck\", \"service_kill_spa\", 'cabin_num', 'home_num' ] \n",
    "* \"VIP\", \"HomePlanet\", \"planet_deck\",\"age_bin\",\n",
    "\n",
    "data_df = data[feature_columns]\n",
    "\n",
    "___\n",
    "\n",
    "xgb_clf = xgb.XGBClassifier(use_label_encoder=False ,gamma=2, learning_rate=0.08, objective=\"binary:hinge\",\n",
    "                            max_delta_step=1,\n",
    "                            max_depth=6,min_child_weight=0, n_estimators=150, subsample=0.8)\n",
    "\n",
    "___\n",
    "\n",
    "drop_list = [\"ShoppingMall_rate\", \"cabin_side_deck_P_T\", \"cabin_side_deck_S_T\",\n",
    "            \"planet_deck_B_Earth\", \"planet_deck_C_Earth\", \"planet_deck_D_Earth\",\n",
    "            'planet_deck_G_Mars','planet_deck_D_Europa','planet_deck_E_Europa',\n",
    "            'planet_deck_G_Mars', 'planet_deck_T_Europa', 'cabin_side_deck_S_A','Destination_PSO J318.5-22',\n",
    "            'cabin_side_deck_P_C', 'cabin_side_deck_P_E', 'cabin_side_deck_S_F', 'planet_deck_B_Europa',\n",
    "            'planet_deck_D_Mars', 'planet_deck_G_Europa']"
   ]
  },
  {
   "cell_type": "code",
   "execution_count": null,
   "id": "06fb0630",
   "metadata": {},
   "outputs": [],
   "source": []
  }
 ],
 "metadata": {
  "kernelspec": {
   "display_name": "Python 3",
   "language": "python",
   "name": "python3"
  },
  "language_info": {
   "codemirror_mode": {
    "name": "ipython",
    "version": 3
   },
   "file_extension": ".py",
   "mimetype": "text/x-python",
   "name": "python",
   "nbconvert_exporter": "python",
   "pygments_lexer": "ipython3",
   "version": "3.8.8"
  }
 },
 "nbformat": 4,
 "nbformat_minor": 5
}
